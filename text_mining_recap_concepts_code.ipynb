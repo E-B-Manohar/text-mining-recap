{
 "cells": [
  {
   "cell_type": "markdown",
   "id": "e474392e-d0a2-4a79-97b5-9f6712985df7",
   "metadata": {},
   "source": [
    "# Understanding Language Semantic Concepts & Data Standardization\n",
    "\n",
    "### **1. Language Semantic Concepts**\n",
    "\n",
    "**Semantics** refers to the meaning of words, phrases, and sentences in a language. In the context of Natural Language Processing (NLP) and AI, **semantic understanding** involves extracting meaning from text by identifying relationships, structures, and contextual nuances. Here's what you need to know:\n",
    "\n",
    "#### Key Concepts:\n",
    "- **Word Meaning:**\n",
    "  - **Lexical Semantics**: Deals with word meanings, including synonyms, antonyms, and word relationships.\n",
    "  - **Polysemy**: A word that has multiple meanings based on context (e.g., \"bank\" as a financial institution or the side of a river).\n",
    "  - **Homonymy**: When two words have the same form but different meanings and origins (e.g., “bat” as an animal and as a sports equipment).\n",
    "\n",
    "- **Contextual Semantics:**\n",
    "  - The meaning of a word or sentence can change based on the surrounding context. For example, \"apple\" could refer to the fruit, the tech company, or a place, depending on the context.\n",
    "  - **Word Sense Disambiguation (WSD)**: Identifying which sense of a word is being used in a particular context.\n",
    "\n",
    "- **Sentence-Level Semantics:**\n",
    "  - **Syntax-Semantics Interface**: The relationship between sentence structure (syntax) and meaning (semantics). Understanding how grammatical structures affect meaning.\n",
    "  - **Compositional Semantics**: How smaller units of meaning (words) combine to form the meaning of larger structures (sentences or paragraphs).\n",
    "\n",
    "- **Embeddings & Representations:**\n",
    "  - **Word Embeddings**: Represent words in a high-dimensional space where semantically similar words are located close to each other. Examples: Word2Vec, GloVe, FastText.\n",
    "  - **Contextual Embeddings**: These embeddings account for the context in which a word appears. BERT, GPT, and other Transformer-based models generate contextual embeddings.\n",
    "\n",
    "#### **Popular Models for Semantic Understanding:**\n",
    "- **Word2Vec**: Captures semantic relationships using continuous bag-of-words (CBOW) and skip-gram approaches.\n",
    "- **GloVe**: Generates word embeddings by factorizing the word co-occurrence matrix from a corpus.\n",
    "- **BERT (Bidirectional Encoder Representations from Transformers)**: Understands word semantics in context by reading text in both directions.\n",
    "- **GPT (Generative Pre-trained Transformer)**: A generative model that uses large-scale transformers to understand language semantics and generate human-like text.\n",
    "\n",
    "#### **Applications:**\n",
    "- **Named Entity Recognition (NER)**: Identifying entities like people, organizations, dates, etc.\n",
    "- **Sentiment Analysis**: Understanding the sentiment (positive, negative, neutral) in a text.\n",
    "- **Machine Translation**: Translating text between languages while preserving semantic meaning.\n",
    "- **Question-Answering Systems**: Generating responses based on the meaning of a query and a knowledge base.\n",
    "\n",
    "---\n",
    "\n",
    "### **2. Data Standardization**\n",
    "\n",
    "**Data Standardization** refers to the process of transforming data into a consistent format or scale so it can be used effectively in various machine learning models or analyses. It ensures that different data sources or features align and are comparable.\n",
    "\n",
    "#### Why Standardization is Important:\n",
    "- **Comparability**: Different features may have varying scales (e.g., age in years and income in thousands). Standardization ensures features are comparable.\n",
    "- **Improved Model Performance**: Many machine learning algorithms, like SVM, KNN, and logistic regression, perform better when data is standardized.\n",
    "- **Dealing with Units**: Ensures that no single feature dominates due to its scale or unit of measurement.\n",
    "\n",
    "#### Techniques for Standardization:\n",
    "\n",
    "1. **Scaling (Normalization) Techniques:**\n",
    "   - **Z-Score Standardization (StandardScaler)**:\n",
    "     - **Formula**: \\( z = \\frac{(X - \\mu)}{\\sigma} \\)\n",
    "     - Converts data to have a mean of 0 and standard deviation of 1. Commonly used for algorithms that assume normal distribution.\n",
    "     - **Use Case**: Algorithms like KNN, logistic regression, and neural networks.\n",
    "     \n",
    "   - **Min-Max Scaling**:\n",
    "     - **Formula**: \\( X_{\\text{scaled}} = \\frac{X - \\text{min}}{\\text{max} - \\text{min}} \\)\n",
    "     - Rescales data to a fixed range, often [0, 1]. Suitable for algorithms sensitive to the range of data.\n",
    "     - **Use Case**: Deep learning models, image processing.\n",
    "\n",
    "   - **MaxAbs Scaling**:\n",
    "     - **Formula**: \\( X_{\\text{scaled}} = \\frac{X}{\\text{max} |X|} \\)\n",
    "     - Scales each feature by its maximum absolute value. This is useful when data contains both positive and negative values.\n",
    "\n",
    "2. **Encoding Categorical Data**:\n",
    "   - **Label Encoding**: Converts categorical labels into numerical values. Not suitable for ordinal data where the categories have a natural order.\n",
    "   - **One-Hot Encoding**: Converts categorical variables into binary vectors. Useful for nominal data where there is no intrinsic order.\n",
    "   - **Ordinal Encoding**: For ordered categories, where the values are converted into integers representing their rank.\n",
    "\n",
    "3. **Text Data Standardization**:\n",
    "   - **Tokenization**: Break down text into tokens (words or subwords).\n",
    "   - **Removing Stop Words**: Words that do not contribute significant meaning (e.g., “is”, “the”).\n",
    "   - **Lowercasing**: Converts all text to lowercase to maintain consistency.\n",
    "   - **Stemming/Lemmatization**: Reduces words to their root forms (e.g., “running” → “run”).\n",
    "   - **Punctuation Removal**: Strips unnecessary punctuation marks.\n",
    "   - **Spell Correction**: Corrects misspelled words in datasets.\n",
    "\n",
    "4. **Text Vectorization**:\n",
    "   - **Bag of Words (BoW)**: Converts text into a vector of word frequencies.\n",
    "   - **TF-IDF (Term Frequency-Inverse Document Frequency)**: Weighs words based on their importance in a document relative to the entire corpus.\n",
    "   - **Word Embeddings (Word2Vec, GloVe)**: Represents words as dense vectors in a continuous vector space, capturing semantic relationships.\n",
    "\n",
    "---\n",
    "\n",
    "### **Key Considerations for Language Semantic Concepts & Data Standardization**\n",
    "\n",
    "1. **Language Semantic Models**:\n",
    "   - Focus on understanding the *meaning* of language, both at a word level (embeddings) and at a sentence level (contextual analysis using transformers like BERT).\n",
    "   - Use embeddings to map words into high-dimensional vector spaces where the semantic proximity of words is preserved.\n",
    "\n",
    "2. **Data Standardization in NLP**:\n",
    "   - Ensuring that textual data is properly processed and standardized is essential for any NLP task. Preprocessing steps such as tokenization, lemmatization, and removing noise help improve the model's performance.\n",
    "   - In the case of non-textual data, feature scaling techniques (like Z-Score or Min-Max scaling) ensure the smooth performance of ML algorithms by avoiding issues where some features dominate due to their scale.\n",
    "\n",
    "3. **Applications**:\n",
    "   - In **Text Classification**, preprocessed data (after normalization and feature extraction like TF-IDF) is fed into classification algorithms.\n",
    "   - **Sentiment Analysis** benefits greatly from standardization techniques and embeddings because the model can understand semantic nuances in text.\n",
    "\n",
    "4. **Challenges**:\n",
    "   - **Polysemy** and **Contextual Differences** are common in language and pose challenges in semantic understanding. Models like BERT and GPT are designed to overcome these challenges by considering the broader context of words.\n",
    "   - **Data Drift**: Over time, semantic meaning can evolve (e.g., slang terms, new words), so models need to be periodically retrained with updated semantic understanding.\n",
    "\n",
    "---\n",
    "\n",
    "### **Conclusion**\n",
    "\n",
    "- **Semantic Understanding** plays a vital role in NLP and AI by enabling machines to understand and process human language meaningfully. Techniques like word embeddings and contextual embeddings help models capture these meanings.\n",
    "- **Data Standardization** ensures that your data is in a consistent format, which improves the accuracy and efficiency of machine learning algorithms, especially in large and complex datasets.\n",
    "\n"
   ]
  },
  {
   "cell_type": "markdown",
   "id": "84a2b216-42e0-4fd0-8409-5daf75a51055",
   "metadata": {
    "jp-MarkdownHeadingCollapsed": true
   },
   "source": [
    "### Focusing on text mining, it's essential to understand the key objectives that may be assessed. These objectives encompass both technical proficiency and the ability to apply text mining techniques effectively. Below is a list of primary objectives:\n",
    "\n",
    "1. **Text Preprocessing**:\n",
    "   - Tokenization\n",
    "   - Stop-word removal\n",
    "   - Stemming and lemmatization\n",
    "   - Handling punctuation and special characters\n",
    "\n",
    "2. **Feature Extraction**:\n",
    "   - Bag of Words (BoW) implementation\n",
    "   - Term Frequency-Inverse Document Frequency (TF-IDF) computation\n",
    "   - Word embeddings (e.g., Word2Vec, GloVe)\n",
    "\n",
    "3. **Text Classification**:\n",
    "   - Building classifiers (e.g., Naive Bayes, SVM)\n",
    "   - Evaluating model performance (accuracy, precision, recall, F1-score)\n",
    "\n",
    "4. **Sentiment Analysis**:\n",
    "   - Determining sentiment polarity (positive, negative, neutral)\n",
    "   - Handling subjective vs. objective statements\n",
    "\n",
    "5. **Topic Modeling**:\n",
    "   - Implementing algorithms like Latent Dirichlet Allocation (LDA)\n",
    "   - Interpreting and visualizing topics\n",
    "\n",
    "6. **Named Entity Recognition (NER)**:\n",
    "   - Identifying entities such as names, organizations, dates\n",
    "   - Utilizing libraries like spaCy or NLTK for NER tasks\n",
    "\n",
    "7. **Language Modeling**:\n",
    "   - Understanding n-gram models\n",
    "   - Implementing predictive text features\n",
    "\n",
    "8. **Text Summarization**:\n",
    "   - Extractive vs. abstractive summarization techniques\n",
    "   - Implementing basic summarization algorithms\n",
    "\n",
    "9. **Data Visualization**:\n",
    "   - Visualizing text data distributions\n",
    "   - Creating word clouds, frequency histograms\n",
    "\n",
    "10. **Handling Imbalanced Data**:\n",
    "    - Techniques like oversampling, undersampling\n",
    "    - Using evaluation metrics suitable for imbalanced datasets\n",
    "\n",
    "Other things to consider\n",
    "\n",
    "**Scalability and Optimization**:\n",
    " - Efficient processing of large text datasets\n",
    " - Optimizing code for performance\n",
    "\n",
    "**Ethical Considerations**:\n",
    " - Ensuring data privacy and compliance\n",
    " - Bias detection and mitigation in text analysis"
   ]
  },
  {
   "cell_type": "markdown",
   "id": "6a5fe77c-0c8d-45f3-acf2-74df1011cd1d",
   "metadata": {
    "jp-MarkdownHeadingCollapsed": true
   },
   "source": [
    "## 1. Text Preprocessing:\n",
    "\n",
    "- Tokenization\n",
    "- Stop-word removal\n",
    "- Stemming\n",
    "- lemmatization\n",
    "- Handling punctuation and special characters"
   ]
  },
  {
   "cell_type": "code",
   "execution_count": 76,
   "id": "45d8a222-a4eb-4684-a45a-0337fadde264",
   "metadata": {},
   "outputs": [],
   "source": [
    "import nltk\n",
    "from nltk.tokenize import word_tokenize\n",
    "from nltk.corpus import stopwords\n",
    "from nltk.stem import PorterStemmer, WordNetLemmatizer\n",
    "import string"
   ]
  },
  {
   "cell_type": "code",
   "execution_count": 77,
   "id": "e550fc5d-5ffc-4094-8b3e-06833ec0d6aa",
   "metadata": {},
   "outputs": [
    {
     "name": "stderr",
     "output_type": "stream",
     "text": [
      "[nltk_data] Downloading package punkt to C:\\Users\\Erle Babji\n",
      "[nltk_data]     Manohar\\AppData\\Roaming\\nltk_data...\n",
      "[nltk_data]   Package punkt is already up-to-date!\n",
      "[nltk_data] Downloading package stopwords to C:\\Users\\Erle Babji\n",
      "[nltk_data]     Manohar\\AppData\\Roaming\\nltk_data...\n",
      "[nltk_data]   Unzipping corpora\\stopwords.zip.\n",
      "[nltk_data] Downloading package wordnet to C:\\Users\\Erle Babji\n",
      "[nltk_data]     Manohar\\AppData\\Roaming\\nltk_data...\n"
     ]
    },
    {
     "data": {
      "text/plain": [
       "True"
      ]
     },
     "execution_count": 77,
     "metadata": {},
     "output_type": "execute_result"
    }
   ],
   "source": [
    "# Download necessary NLTK data files\n",
    "nltk.download('punkt')\n",
    "nltk.download('stopwords')\n",
    "nltk.download('wordnet')"
   ]
  },
  {
   "cell_type": "code",
   "execution_count": 78,
   "id": "b1f906af-831e-445b-a8dd-eff16ab87855",
   "metadata": {},
   "outputs": [],
   "source": [
    "# Sample text\n",
    "text = \"The quick brown fox jumps over the lazy dog! Does it? Yes, it does.\""
   ]
  },
  {
   "cell_type": "code",
   "execution_count": 79,
   "id": "92ca0f02-1564-4226-9673-970c3736da57",
   "metadata": {},
   "outputs": [
    {
     "data": {
      "text/plain": [
       "'the quick brown fox jumps over the lazy dog! does it? yes, it does.'"
      ]
     },
     "execution_count": 79,
     "metadata": {},
     "output_type": "execute_result"
    }
   ],
   "source": [
    "# Convert text to lowercase\n",
    "text = text.lower()\n",
    "text"
   ]
  },
  {
   "cell_type": "code",
   "execution_count": 80,
   "id": "9220d9df-3af4-40fb-a7e0-a9b285431929",
   "metadata": {
    "scrolled": true
   },
   "outputs": [
    {
     "data": {
      "text/plain": [
       "['the',\n",
       " 'quick',\n",
       " 'brown',\n",
       " 'fox',\n",
       " 'jumps',\n",
       " 'over',\n",
       " 'the',\n",
       " 'lazy',\n",
       " 'dog',\n",
       " '!',\n",
       " 'does',\n",
       " 'it',\n",
       " '?',\n",
       " 'yes',\n",
       " ',',\n",
       " 'it',\n",
       " 'does',\n",
       " '.']"
      ]
     },
     "execution_count": 80,
     "metadata": {},
     "output_type": "execute_result"
    }
   ],
   "source": [
    "# Tokenization\n",
    "tokens = word_tokenize(text)\n",
    "tokens"
   ]
  },
  {
   "cell_type": "code",
   "execution_count": 81,
   "id": "988174ee-53e4-4824-8dde-08626ffdf273",
   "metadata": {
    "scrolled": true
   },
   "outputs": [
    {
     "data": {
      "text/plain": [
       "['the',\n",
       " 'quick',\n",
       " 'brown',\n",
       " 'fox',\n",
       " 'jumps',\n",
       " 'over',\n",
       " 'the',\n",
       " 'lazy',\n",
       " 'dog',\n",
       " 'does',\n",
       " 'it',\n",
       " 'yes',\n",
       " 'it',\n",
       " 'does']"
      ]
     },
     "execution_count": 81,
     "metadata": {},
     "output_type": "execute_result"
    }
   ],
   "source": [
    "# Remove punctuation and special characters\n",
    "tokens = [word for word in tokens if word.isalnum()]\n",
    "tokens"
   ]
  },
  {
   "cell_type": "code",
   "execution_count": 82,
   "id": "dcfe3f93-5030-4496-b046-f45869fe9a0d",
   "metadata": {
    "scrolled": true
   },
   "outputs": [
    {
     "data": {
      "text/plain": [
       "{'a',\n",
       " 'about',\n",
       " 'above',\n",
       " 'after',\n",
       " 'again',\n",
       " 'against',\n",
       " 'ain',\n",
       " 'all',\n",
       " 'am',\n",
       " 'an',\n",
       " 'and',\n",
       " 'any',\n",
       " 'are',\n",
       " 'aren',\n",
       " \"aren't\",\n",
       " 'as',\n",
       " 'at',\n",
       " 'be',\n",
       " 'because',\n",
       " 'been',\n",
       " 'before',\n",
       " 'being',\n",
       " 'below',\n",
       " 'between',\n",
       " 'both',\n",
       " 'but',\n",
       " 'by',\n",
       " 'can',\n",
       " 'couldn',\n",
       " \"couldn't\",\n",
       " 'd',\n",
       " 'did',\n",
       " 'didn',\n",
       " \"didn't\",\n",
       " 'do',\n",
       " 'does',\n",
       " 'doesn',\n",
       " \"doesn't\",\n",
       " 'doing',\n",
       " 'don',\n",
       " \"don't\",\n",
       " 'down',\n",
       " 'during',\n",
       " 'each',\n",
       " 'few',\n",
       " 'for',\n",
       " 'from',\n",
       " 'further',\n",
       " 'had',\n",
       " 'hadn',\n",
       " \"hadn't\",\n",
       " 'has',\n",
       " 'hasn',\n",
       " \"hasn't\",\n",
       " 'have',\n",
       " 'haven',\n",
       " \"haven't\",\n",
       " 'having',\n",
       " 'he',\n",
       " 'her',\n",
       " 'here',\n",
       " 'hers',\n",
       " 'herself',\n",
       " 'him',\n",
       " 'himself',\n",
       " 'his',\n",
       " 'how',\n",
       " 'i',\n",
       " 'if',\n",
       " 'in',\n",
       " 'into',\n",
       " 'is',\n",
       " 'isn',\n",
       " \"isn't\",\n",
       " 'it',\n",
       " \"it's\",\n",
       " 'its',\n",
       " 'itself',\n",
       " 'just',\n",
       " 'll',\n",
       " 'm',\n",
       " 'ma',\n",
       " 'me',\n",
       " 'mightn',\n",
       " \"mightn't\",\n",
       " 'more',\n",
       " 'most',\n",
       " 'mustn',\n",
       " \"mustn't\",\n",
       " 'my',\n",
       " 'myself',\n",
       " 'needn',\n",
       " \"needn't\",\n",
       " 'no',\n",
       " 'nor',\n",
       " 'not',\n",
       " 'now',\n",
       " 'o',\n",
       " 'of',\n",
       " 'off',\n",
       " 'on',\n",
       " 'once',\n",
       " 'only',\n",
       " 'or',\n",
       " 'other',\n",
       " 'our',\n",
       " 'ours',\n",
       " 'ourselves',\n",
       " 'out',\n",
       " 'over',\n",
       " 'own',\n",
       " 're',\n",
       " 's',\n",
       " 'same',\n",
       " 'shan',\n",
       " \"shan't\",\n",
       " 'she',\n",
       " \"she's\",\n",
       " 'should',\n",
       " \"should've\",\n",
       " 'shouldn',\n",
       " \"shouldn't\",\n",
       " 'so',\n",
       " 'some',\n",
       " 'such',\n",
       " 't',\n",
       " 'than',\n",
       " 'that',\n",
       " \"that'll\",\n",
       " 'the',\n",
       " 'their',\n",
       " 'theirs',\n",
       " 'them',\n",
       " 'themselves',\n",
       " 'then',\n",
       " 'there',\n",
       " 'these',\n",
       " 'they',\n",
       " 'this',\n",
       " 'those',\n",
       " 'through',\n",
       " 'to',\n",
       " 'too',\n",
       " 'under',\n",
       " 'until',\n",
       " 'up',\n",
       " 've',\n",
       " 'very',\n",
       " 'was',\n",
       " 'wasn',\n",
       " \"wasn't\",\n",
       " 'we',\n",
       " 'were',\n",
       " 'weren',\n",
       " \"weren't\",\n",
       " 'what',\n",
       " 'when',\n",
       " 'where',\n",
       " 'which',\n",
       " 'while',\n",
       " 'who',\n",
       " 'whom',\n",
       " 'why',\n",
       " 'will',\n",
       " 'with',\n",
       " 'won',\n",
       " \"won't\",\n",
       " 'wouldn',\n",
       " \"wouldn't\",\n",
       " 'y',\n",
       " 'you',\n",
       " \"you'd\",\n",
       " \"you'll\",\n",
       " \"you're\",\n",
       " \"you've\",\n",
       " 'your',\n",
       " 'yours',\n",
       " 'yourself',\n",
       " 'yourselves'}"
      ]
     },
     "execution_count": 82,
     "metadata": {},
     "output_type": "execute_result"
    }
   ],
   "source": [
    "# Stop-word removal\n",
    "stop_words = set(stopwords.words('english'))\n",
    "stop_words"
   ]
  },
  {
   "cell_type": "code",
   "execution_count": 83,
   "id": "269aef7d-6709-4d1c-8548-3472990663fe",
   "metadata": {},
   "outputs": [
    {
     "data": {
      "text/plain": [
       "['quick', 'brown', 'fox', 'jumps', 'lazy', 'dog', 'yes']"
      ]
     },
     "execution_count": 83,
     "metadata": {},
     "output_type": "execute_result"
    }
   ],
   "source": [
    "filtered_tokens = [word for word in tokens if word not in stop_words]\n",
    "filtered_tokens"
   ]
  },
  {
   "cell_type": "code",
   "execution_count": 84,
   "id": "4bb4bc51-00e1-43bf-b514-7cbc10fe44c5",
   "metadata": {},
   "outputs": [
    {
     "data": {
      "text/plain": [
       "<PorterStemmer>"
      ]
     },
     "execution_count": 84,
     "metadata": {},
     "output_type": "execute_result"
    }
   ],
   "source": [
    "# Stemming\n",
    "stemmer = PorterStemmer()\n",
    "stemmer"
   ]
  },
  {
   "cell_type": "code",
   "execution_count": 85,
   "id": "1cc8083c-610c-4d3c-94a2-53468d695417",
   "metadata": {},
   "outputs": [
    {
     "data": {
      "text/plain": [
       "['quick', 'brown', 'fox', 'jump', 'lazi', 'dog', 'ye']"
      ]
     },
     "execution_count": 85,
     "metadata": {},
     "output_type": "execute_result"
    }
   ],
   "source": [
    "stemmed_tokens = [stemmer.stem(word) for word in filtered_tokens]\n",
    "stemmed_tokens"
   ]
  },
  {
   "cell_type": "code",
   "execution_count": 86,
   "id": "e803a865-3f3a-40d7-b1b4-33863a55364a",
   "metadata": {},
   "outputs": [
    {
     "data": {
      "text/plain": [
       "<WordNetLemmatizer>"
      ]
     },
     "execution_count": 86,
     "metadata": {},
     "output_type": "execute_result"
    }
   ],
   "source": [
    "# Lemmatization\n",
    "lemmatizer = WordNetLemmatizer()\n",
    "lemmatizer"
   ]
  },
  {
   "cell_type": "code",
   "execution_count": 87,
   "id": "9f9c1333-1588-4f02-8d8f-634d126cc561",
   "metadata": {},
   "outputs": [
    {
     "data": {
      "text/plain": [
       "['quick', 'brown', 'fox', 'jump', 'lazy', 'dog', 'yes']"
      ]
     },
     "execution_count": 87,
     "metadata": {},
     "output_type": "execute_result"
    }
   ],
   "source": [
    "lemmatized_tokens = [lemmatizer.lemmatize(word) for word in filtered_tokens]\n",
    "lemmatized_tokens"
   ]
  },
  {
   "cell_type": "markdown",
   "id": "d306b571-773b-4369-ab22-3b6c6c884a13",
   "metadata": {
    "jupyter": {
     "source_hidden": true
    }
   },
   "source": [
    "- Stemming: Reduces words to their base form using PorterStemmer. For example, 'jumps' becomes 'jump'.\n",
    "- Lemmatization: Also reduces words to their base form using WordNetLemmatizer, but ensures that the root word is a valid word.\n",
    "\n",
    "Stemming and lemmatization are fundamental techniques in Natural Language Processing (NLP) used to reduce words to their base or root forms. While they share a common goal, they differ in methodology and application.\n",
    "\n",
    "**Stemming**:\n",
    "\n",
    "- **Definition**: Stemming involves removing prefixes or suffixes from words to obtain a base form, known as the \"stem.\" This process often results in non-existent words.\n",
    "\n",
    "- **Methodology**: It uses heuristic rules to strip affixes without considering the word's meaning or context.\n",
    "\n",
    "- **Example**:\n",
    "  - \"Running\" → \"run\"\n",
    "  - \"Happiness\" → \"happi\"\n",
    "\n",
    "- **Advantages**:\n",
    "  - Faster and computationally less expensive.\n",
    "  - Suitable for tasks where exact word meaning is less critical.\n",
    "\n",
    "- **Disadvantages**:\n",
    "  - May produce non-standard words.\n",
    "  - Does not always preserve the word's original meaning.\n",
    "\n",
    "**Lemmatization**:\n",
    "\n",
    "- **Definition**: Lemmatization reduces words to their base or dictionary form, known as the \"lemma,\" ensuring the result is a valid word.\n",
    "\n",
    "- **Methodology**: It considers the word's meaning and context, often utilizing linguistic resources like WordNet.\n",
    "\n",
    "- **Example**:\n",
    "  - \"Running\" → \"run\"\n",
    "  - \"Better\" → \"good\"\n",
    "\n",
    "- **Advantages**:\n",
    "  - Produces valid words.\n",
    "  - Preserves the word's meaning and grammatical correctness.\n",
    "\n",
    "- **Disadvantages**:\n",
    "  - More computationally intensive.\n",
    "  - Requires access to linguistic resources.\n",
    "\n",
    "**Key Differences**:\n",
    "\n",
    "- **Accuracy**: Lemmatization is more accurate as it considers the word's meaning and context, whereas stemming may produce non-standard words.\n",
    "\n",
    "- **Speed**: Stemming is faster and computationally less expensive compared to lemmatization.\n",
    "\n",
    "- **Use Cases**:\n",
    "  - Stemming is suitable for tasks like information retrieval where exact word meaning is less critical.\n",
    "  - Lemmatization is ideal for applications requiring precise understanding of word meanings, such as chatbots and question-answering systems.\n",
    "\n",
    "In summary, the choice between stemming and lemmatization depends on the specific requirements of the NLP task, balancing the need for accuracy with computational efficiency. "
   ]
  },
  {
   "cell_type": "code",
   "execution_count": 88,
   "id": "64f02de2-93ac-43df-bf56-110070911cba",
   "metadata": {},
   "outputs": [
    {
     "name": "stdout",
     "output_type": "stream",
     "text": [
      "Original Text: the quick brown fox jumps over the lazy dog! does it? yes, it does.\n",
      "Tokens: ['the', 'quick', 'brown', 'fox', 'jumps', 'over', 'the', 'lazy', 'dog', 'does', 'it', 'yes', 'it', 'does']\n",
      "Filtered Tokens: ['quick', 'brown', 'fox', 'jumps', 'lazy', 'dog', 'yes']\n",
      "Stemmed Tokens: ['quick', 'brown', 'fox', 'jump', 'lazi', 'dog', 'ye']\n",
      "Lemmatized Tokens: ['quick', 'brown', 'fox', 'jump', 'lazy', 'dog', 'yes']\n"
     ]
    }
   ],
   "source": [
    "# Output results\n",
    "print(\"Original Text:\", text)\n",
    "print(\"Tokens:\", tokens)\n",
    "print(\"Filtered Tokens:\", filtered_tokens)\n",
    "print(\"Stemmed Tokens:\", stemmed_tokens)\n",
    "print(\"Lemmatized Tokens:\", lemmatized_tokens)"
   ]
  },
  {
   "cell_type": "markdown",
   "id": "42f9fa3b-ce75-4703-a599-f1436751eb05",
   "metadata": {
    "jp-MarkdownHeadingCollapsed": true
   },
   "source": [
    "## 2. Feature Extraction:\n",
    "\n",
    "- Bag of Words (BoW) implementation\n",
    "- Term Frequency-Inverse Document Frequency (TF-IDF) computation\n",
    "- Word embeddings (e.g., Word2Vec, GloVe)"
   ]
  },
  {
   "cell_type": "markdown",
   "id": "efd13d5d-8ea4-4f45-aba4-9cc02d1b732b",
   "metadata": {
    "jp-MarkdownHeadingCollapsed": true
   },
   "source": [
    "### 2.1 Bag of Words (BoW) Implementation\n",
    "\n",
    "The Bag of Words model represents text data as a matrix where each row corresponds to a document, and each column represents a unique word from the entire corpus. The value in each cell indicates the frequency of the word in the document."
   ]
  },
  {
   "cell_type": "code",
   "execution_count": 89,
   "id": "c42daf73-e784-48cd-a7a1-e7d79de8de46",
   "metadata": {},
   "outputs": [],
   "source": [
    "from sklearn.feature_extraction.text import CountVectorizer"
   ]
  },
  {
   "cell_type": "code",
   "execution_count": 90,
   "id": "cdb57767-e0d0-49cb-8388-ee9bbfd0c84e",
   "metadata": {},
   "outputs": [],
   "source": [
    "# Sample corpus\n",
    "corpus = [\n",
    "    'The quick brown fox',\n",
    "    'Jumped over the lazy dog',\n",
    "    'The quick brown dog'\n",
    "]"
   ]
  },
  {
   "cell_type": "code",
   "execution_count": 92,
   "id": "0066b413-18dc-4cd9-a149-1864913de8c2",
   "metadata": {},
   "outputs": [
    {
     "data": {
      "text/html": [
       "<style>#sk-container-id-10 {\n",
       "  /* Definition of color scheme common for light and dark mode */\n",
       "  --sklearn-color-text: black;\n",
       "  --sklearn-color-line: gray;\n",
       "  /* Definition of color scheme for unfitted estimators */\n",
       "  --sklearn-color-unfitted-level-0: #fff5e6;\n",
       "  --sklearn-color-unfitted-level-1: #f6e4d2;\n",
       "  --sklearn-color-unfitted-level-2: #ffe0b3;\n",
       "  --sklearn-color-unfitted-level-3: chocolate;\n",
       "  /* Definition of color scheme for fitted estimators */\n",
       "  --sklearn-color-fitted-level-0: #f0f8ff;\n",
       "  --sklearn-color-fitted-level-1: #d4ebff;\n",
       "  --sklearn-color-fitted-level-2: #b3dbfd;\n",
       "  --sklearn-color-fitted-level-3: cornflowerblue;\n",
       "\n",
       "  /* Specific color for light theme */\n",
       "  --sklearn-color-text-on-default-background: var(--sg-text-color, var(--theme-code-foreground, var(--jp-content-font-color1, black)));\n",
       "  --sklearn-color-background: var(--sg-background-color, var(--theme-background, var(--jp-layout-color0, white)));\n",
       "  --sklearn-color-border-box: var(--sg-text-color, var(--theme-code-foreground, var(--jp-content-font-color1, black)));\n",
       "  --sklearn-color-icon: #696969;\n",
       "\n",
       "  @media (prefers-color-scheme: dark) {\n",
       "    /* Redefinition of color scheme for dark theme */\n",
       "    --sklearn-color-text-on-default-background: var(--sg-text-color, var(--theme-code-foreground, var(--jp-content-font-color1, white)));\n",
       "    --sklearn-color-background: var(--sg-background-color, var(--theme-background, var(--jp-layout-color0, #111)));\n",
       "    --sklearn-color-border-box: var(--sg-text-color, var(--theme-code-foreground, var(--jp-content-font-color1, white)));\n",
       "    --sklearn-color-icon: #878787;\n",
       "  }\n",
       "}\n",
       "\n",
       "#sk-container-id-10 {\n",
       "  color: var(--sklearn-color-text);\n",
       "}\n",
       "\n",
       "#sk-container-id-10 pre {\n",
       "  padding: 0;\n",
       "}\n",
       "\n",
       "#sk-container-id-10 input.sk-hidden--visually {\n",
       "  border: 0;\n",
       "  clip: rect(1px 1px 1px 1px);\n",
       "  clip: rect(1px, 1px, 1px, 1px);\n",
       "  height: 1px;\n",
       "  margin: -1px;\n",
       "  overflow: hidden;\n",
       "  padding: 0;\n",
       "  position: absolute;\n",
       "  width: 1px;\n",
       "}\n",
       "\n",
       "#sk-container-id-10 div.sk-dashed-wrapped {\n",
       "  border: 1px dashed var(--sklearn-color-line);\n",
       "  margin: 0 0.4em 0.5em 0.4em;\n",
       "  box-sizing: border-box;\n",
       "  padding-bottom: 0.4em;\n",
       "  background-color: var(--sklearn-color-background);\n",
       "}\n",
       "\n",
       "#sk-container-id-10 div.sk-container {\n",
       "  /* jupyter's `normalize.less` sets `[hidden] { display: none; }`\n",
       "     but bootstrap.min.css set `[hidden] { display: none !important; }`\n",
       "     so we also need the `!important` here to be able to override the\n",
       "     default hidden behavior on the sphinx rendered scikit-learn.org.\n",
       "     See: https://github.com/scikit-learn/scikit-learn/issues/21755 */\n",
       "  display: inline-block !important;\n",
       "  position: relative;\n",
       "}\n",
       "\n",
       "#sk-container-id-10 div.sk-text-repr-fallback {\n",
       "  display: none;\n",
       "}\n",
       "\n",
       "div.sk-parallel-item,\n",
       "div.sk-serial,\n",
       "div.sk-item {\n",
       "  /* draw centered vertical line to link estimators */\n",
       "  background-image: linear-gradient(var(--sklearn-color-text-on-default-background), var(--sklearn-color-text-on-default-background));\n",
       "  background-size: 2px 100%;\n",
       "  background-repeat: no-repeat;\n",
       "  background-position: center center;\n",
       "}\n",
       "\n",
       "/* Parallel-specific style estimator block */\n",
       "\n",
       "#sk-container-id-10 div.sk-parallel-item::after {\n",
       "  content: \"\";\n",
       "  width: 100%;\n",
       "  border-bottom: 2px solid var(--sklearn-color-text-on-default-background);\n",
       "  flex-grow: 1;\n",
       "}\n",
       "\n",
       "#sk-container-id-10 div.sk-parallel {\n",
       "  display: flex;\n",
       "  align-items: stretch;\n",
       "  justify-content: center;\n",
       "  background-color: var(--sklearn-color-background);\n",
       "  position: relative;\n",
       "}\n",
       "\n",
       "#sk-container-id-10 div.sk-parallel-item {\n",
       "  display: flex;\n",
       "  flex-direction: column;\n",
       "}\n",
       "\n",
       "#sk-container-id-10 div.sk-parallel-item:first-child::after {\n",
       "  align-self: flex-end;\n",
       "  width: 50%;\n",
       "}\n",
       "\n",
       "#sk-container-id-10 div.sk-parallel-item:last-child::after {\n",
       "  align-self: flex-start;\n",
       "  width: 50%;\n",
       "}\n",
       "\n",
       "#sk-container-id-10 div.sk-parallel-item:only-child::after {\n",
       "  width: 0;\n",
       "}\n",
       "\n",
       "/* Serial-specific style estimator block */\n",
       "\n",
       "#sk-container-id-10 div.sk-serial {\n",
       "  display: flex;\n",
       "  flex-direction: column;\n",
       "  align-items: center;\n",
       "  background-color: var(--sklearn-color-background);\n",
       "  padding-right: 1em;\n",
       "  padding-left: 1em;\n",
       "}\n",
       "\n",
       "\n",
       "/* Toggleable style: style used for estimator/Pipeline/ColumnTransformer box that is\n",
       "clickable and can be expanded/collapsed.\n",
       "- Pipeline and ColumnTransformer use this feature and define the default style\n",
       "- Estimators will overwrite some part of the style using the `sk-estimator` class\n",
       "*/\n",
       "\n",
       "/* Pipeline and ColumnTransformer style (default) */\n",
       "\n",
       "#sk-container-id-10 div.sk-toggleable {\n",
       "  /* Default theme specific background. It is overwritten whether we have a\n",
       "  specific estimator or a Pipeline/ColumnTransformer */\n",
       "  background-color: var(--sklearn-color-background);\n",
       "}\n",
       "\n",
       "/* Toggleable label */\n",
       "#sk-container-id-10 label.sk-toggleable__label {\n",
       "  cursor: pointer;\n",
       "  display: block;\n",
       "  width: 100%;\n",
       "  margin-bottom: 0;\n",
       "  padding: 0.5em;\n",
       "  box-sizing: border-box;\n",
       "  text-align: center;\n",
       "}\n",
       "\n",
       "#sk-container-id-10 label.sk-toggleable__label-arrow:before {\n",
       "  /* Arrow on the left of the label */\n",
       "  content: \"▸\";\n",
       "  float: left;\n",
       "  margin-right: 0.25em;\n",
       "  color: var(--sklearn-color-icon);\n",
       "}\n",
       "\n",
       "#sk-container-id-10 label.sk-toggleable__label-arrow:hover:before {\n",
       "  color: var(--sklearn-color-text);\n",
       "}\n",
       "\n",
       "/* Toggleable content - dropdown */\n",
       "\n",
       "#sk-container-id-10 div.sk-toggleable__content {\n",
       "  max-height: 0;\n",
       "  max-width: 0;\n",
       "  overflow: hidden;\n",
       "  text-align: left;\n",
       "  /* unfitted */\n",
       "  background-color: var(--sklearn-color-unfitted-level-0);\n",
       "}\n",
       "\n",
       "#sk-container-id-10 div.sk-toggleable__content.fitted {\n",
       "  /* fitted */\n",
       "  background-color: var(--sklearn-color-fitted-level-0);\n",
       "}\n",
       "\n",
       "#sk-container-id-10 div.sk-toggleable__content pre {\n",
       "  margin: 0.2em;\n",
       "  border-radius: 0.25em;\n",
       "  color: var(--sklearn-color-text);\n",
       "  /* unfitted */\n",
       "  background-color: var(--sklearn-color-unfitted-level-0);\n",
       "}\n",
       "\n",
       "#sk-container-id-10 div.sk-toggleable__content.fitted pre {\n",
       "  /* unfitted */\n",
       "  background-color: var(--sklearn-color-fitted-level-0);\n",
       "}\n",
       "\n",
       "#sk-container-id-10 input.sk-toggleable__control:checked~div.sk-toggleable__content {\n",
       "  /* Expand drop-down */\n",
       "  max-height: 200px;\n",
       "  max-width: 100%;\n",
       "  overflow: auto;\n",
       "}\n",
       "\n",
       "#sk-container-id-10 input.sk-toggleable__control:checked~label.sk-toggleable__label-arrow:before {\n",
       "  content: \"▾\";\n",
       "}\n",
       "\n",
       "/* Pipeline/ColumnTransformer-specific style */\n",
       "\n",
       "#sk-container-id-10 div.sk-label input.sk-toggleable__control:checked~label.sk-toggleable__label {\n",
       "  color: var(--sklearn-color-text);\n",
       "  background-color: var(--sklearn-color-unfitted-level-2);\n",
       "}\n",
       "\n",
       "#sk-container-id-10 div.sk-label.fitted input.sk-toggleable__control:checked~label.sk-toggleable__label {\n",
       "  background-color: var(--sklearn-color-fitted-level-2);\n",
       "}\n",
       "\n",
       "/* Estimator-specific style */\n",
       "\n",
       "/* Colorize estimator box */\n",
       "#sk-container-id-10 div.sk-estimator input.sk-toggleable__control:checked~label.sk-toggleable__label {\n",
       "  /* unfitted */\n",
       "  background-color: var(--sklearn-color-unfitted-level-2);\n",
       "}\n",
       "\n",
       "#sk-container-id-10 div.sk-estimator.fitted input.sk-toggleable__control:checked~label.sk-toggleable__label {\n",
       "  /* fitted */\n",
       "  background-color: var(--sklearn-color-fitted-level-2);\n",
       "}\n",
       "\n",
       "#sk-container-id-10 div.sk-label label.sk-toggleable__label,\n",
       "#sk-container-id-10 div.sk-label label {\n",
       "  /* The background is the default theme color */\n",
       "  color: var(--sklearn-color-text-on-default-background);\n",
       "}\n",
       "\n",
       "/* On hover, darken the color of the background */\n",
       "#sk-container-id-10 div.sk-label:hover label.sk-toggleable__label {\n",
       "  color: var(--sklearn-color-text);\n",
       "  background-color: var(--sklearn-color-unfitted-level-2);\n",
       "}\n",
       "\n",
       "/* Label box, darken color on hover, fitted */\n",
       "#sk-container-id-10 div.sk-label.fitted:hover label.sk-toggleable__label.fitted {\n",
       "  color: var(--sklearn-color-text);\n",
       "  background-color: var(--sklearn-color-fitted-level-2);\n",
       "}\n",
       "\n",
       "/* Estimator label */\n",
       "\n",
       "#sk-container-id-10 div.sk-label label {\n",
       "  font-family: monospace;\n",
       "  font-weight: bold;\n",
       "  display: inline-block;\n",
       "  line-height: 1.2em;\n",
       "}\n",
       "\n",
       "#sk-container-id-10 div.sk-label-container {\n",
       "  text-align: center;\n",
       "}\n",
       "\n",
       "/* Estimator-specific */\n",
       "#sk-container-id-10 div.sk-estimator {\n",
       "  font-family: monospace;\n",
       "  border: 1px dotted var(--sklearn-color-border-box);\n",
       "  border-radius: 0.25em;\n",
       "  box-sizing: border-box;\n",
       "  margin-bottom: 0.5em;\n",
       "  /* unfitted */\n",
       "  background-color: var(--sklearn-color-unfitted-level-0);\n",
       "}\n",
       "\n",
       "#sk-container-id-10 div.sk-estimator.fitted {\n",
       "  /* fitted */\n",
       "  background-color: var(--sklearn-color-fitted-level-0);\n",
       "}\n",
       "\n",
       "/* on hover */\n",
       "#sk-container-id-10 div.sk-estimator:hover {\n",
       "  /* unfitted */\n",
       "  background-color: var(--sklearn-color-unfitted-level-2);\n",
       "}\n",
       "\n",
       "#sk-container-id-10 div.sk-estimator.fitted:hover {\n",
       "  /* fitted */\n",
       "  background-color: var(--sklearn-color-fitted-level-2);\n",
       "}\n",
       "\n",
       "/* Specification for estimator info (e.g. \"i\" and \"?\") */\n",
       "\n",
       "/* Common style for \"i\" and \"?\" */\n",
       "\n",
       ".sk-estimator-doc-link,\n",
       "a:link.sk-estimator-doc-link,\n",
       "a:visited.sk-estimator-doc-link {\n",
       "  float: right;\n",
       "  font-size: smaller;\n",
       "  line-height: 1em;\n",
       "  font-family: monospace;\n",
       "  background-color: var(--sklearn-color-background);\n",
       "  border-radius: 1em;\n",
       "  height: 1em;\n",
       "  width: 1em;\n",
       "  text-decoration: none !important;\n",
       "  margin-left: 1ex;\n",
       "  /* unfitted */\n",
       "  border: var(--sklearn-color-unfitted-level-1) 1pt solid;\n",
       "  color: var(--sklearn-color-unfitted-level-1);\n",
       "}\n",
       "\n",
       ".sk-estimator-doc-link.fitted,\n",
       "a:link.sk-estimator-doc-link.fitted,\n",
       "a:visited.sk-estimator-doc-link.fitted {\n",
       "  /* fitted */\n",
       "  border: var(--sklearn-color-fitted-level-1) 1pt solid;\n",
       "  color: var(--sklearn-color-fitted-level-1);\n",
       "}\n",
       "\n",
       "/* On hover */\n",
       "div.sk-estimator:hover .sk-estimator-doc-link:hover,\n",
       ".sk-estimator-doc-link:hover,\n",
       "div.sk-label-container:hover .sk-estimator-doc-link:hover,\n",
       ".sk-estimator-doc-link:hover {\n",
       "  /* unfitted */\n",
       "  background-color: var(--sklearn-color-unfitted-level-3);\n",
       "  color: var(--sklearn-color-background);\n",
       "  text-decoration: none;\n",
       "}\n",
       "\n",
       "div.sk-estimator.fitted:hover .sk-estimator-doc-link.fitted:hover,\n",
       ".sk-estimator-doc-link.fitted:hover,\n",
       "div.sk-label-container:hover .sk-estimator-doc-link.fitted:hover,\n",
       ".sk-estimator-doc-link.fitted:hover {\n",
       "  /* fitted */\n",
       "  background-color: var(--sklearn-color-fitted-level-3);\n",
       "  color: var(--sklearn-color-background);\n",
       "  text-decoration: none;\n",
       "}\n",
       "\n",
       "/* Span, style for the box shown on hovering the info icon */\n",
       ".sk-estimator-doc-link span {\n",
       "  display: none;\n",
       "  z-index: 9999;\n",
       "  position: relative;\n",
       "  font-weight: normal;\n",
       "  right: .2ex;\n",
       "  padding: .5ex;\n",
       "  margin: .5ex;\n",
       "  width: min-content;\n",
       "  min-width: 20ex;\n",
       "  max-width: 50ex;\n",
       "  color: var(--sklearn-color-text);\n",
       "  box-shadow: 2pt 2pt 4pt #999;\n",
       "  /* unfitted */\n",
       "  background: var(--sklearn-color-unfitted-level-0);\n",
       "  border: .5pt solid var(--sklearn-color-unfitted-level-3);\n",
       "}\n",
       "\n",
       ".sk-estimator-doc-link.fitted span {\n",
       "  /* fitted */\n",
       "  background: var(--sklearn-color-fitted-level-0);\n",
       "  border: var(--sklearn-color-fitted-level-3);\n",
       "}\n",
       "\n",
       ".sk-estimator-doc-link:hover span {\n",
       "  display: block;\n",
       "}\n",
       "\n",
       "/* \"?\"-specific style due to the `<a>` HTML tag */\n",
       "\n",
       "#sk-container-id-10 a.estimator_doc_link {\n",
       "  float: right;\n",
       "  font-size: 1rem;\n",
       "  line-height: 1em;\n",
       "  font-family: monospace;\n",
       "  background-color: var(--sklearn-color-background);\n",
       "  border-radius: 1rem;\n",
       "  height: 1rem;\n",
       "  width: 1rem;\n",
       "  text-decoration: none;\n",
       "  /* unfitted */\n",
       "  color: var(--sklearn-color-unfitted-level-1);\n",
       "  border: var(--sklearn-color-unfitted-level-1) 1pt solid;\n",
       "}\n",
       "\n",
       "#sk-container-id-10 a.estimator_doc_link.fitted {\n",
       "  /* fitted */\n",
       "  border: var(--sklearn-color-fitted-level-1) 1pt solid;\n",
       "  color: var(--sklearn-color-fitted-level-1);\n",
       "}\n",
       "\n",
       "/* On hover */\n",
       "#sk-container-id-10 a.estimator_doc_link:hover {\n",
       "  /* unfitted */\n",
       "  background-color: var(--sklearn-color-unfitted-level-3);\n",
       "  color: var(--sklearn-color-background);\n",
       "  text-decoration: none;\n",
       "}\n",
       "\n",
       "#sk-container-id-10 a.estimator_doc_link.fitted:hover {\n",
       "  /* fitted */\n",
       "  background-color: var(--sklearn-color-fitted-level-3);\n",
       "}\n",
       "</style><div id=\"sk-container-id-10\" class=\"sk-top-container\"><div class=\"sk-text-repr-fallback\"><pre>CountVectorizer()</pre><b>In a Jupyter environment, please rerun this cell to show the HTML representation or trust the notebook. <br />On GitHub, the HTML representation is unable to render, please try loading this page with nbviewer.org.</b></div><div class=\"sk-container\" hidden><div class=\"sk-item\"><div class=\"sk-estimator  sk-toggleable\"><input class=\"sk-toggleable__control sk-hidden--visually\" id=\"sk-estimator-id-10\" type=\"checkbox\" checked><label for=\"sk-estimator-id-10\" class=\"sk-toggleable__label  sk-toggleable__label-arrow \">&nbsp;&nbsp;CountVectorizer<a class=\"sk-estimator-doc-link \" rel=\"noreferrer\" target=\"_blank\" href=\"https://scikit-learn.org/1.5/modules/generated/sklearn.feature_extraction.text.CountVectorizer.html\">?<span>Documentation for CountVectorizer</span></a><span class=\"sk-estimator-doc-link \">i<span>Not fitted</span></span></label><div class=\"sk-toggleable__content \"><pre>CountVectorizer()</pre></div> </div></div></div></div>"
      ],
      "text/plain": [
       "CountVectorizer()"
      ]
     },
     "execution_count": 92,
     "metadata": {},
     "output_type": "execute_result"
    }
   ],
   "source": [
    "# Initialize CountVectorizer\n",
    "vectorizer = CountVectorizer()\n",
    "vectorizer"
   ]
  },
  {
   "cell_type": "code",
   "execution_count": 93,
   "id": "01daad04-d264-4800-8b45-9ff58d13bd03",
   "metadata": {},
   "outputs": [
    {
     "data": {
      "text/plain": [
       "<3x8 sparse matrix of type '<class 'numpy.int64'>'\n",
       "\twith 13 stored elements in Compressed Sparse Row format>"
      ]
     },
     "execution_count": 93,
     "metadata": {},
     "output_type": "execute_result"
    }
   ],
   "source": [
    "# Fit and transform the corpus\n",
    "X = vectorizer.fit_transform(corpus)\n",
    "X"
   ]
  },
  {
   "cell_type": "code",
   "execution_count": 94,
   "id": "10fa3ee7-878b-49f2-b334-2abd4030f9ec",
   "metadata": {},
   "outputs": [
    {
     "name": "stdout",
     "output_type": "stream",
     "text": [
      "[[1 0 1 0 0 0 1 1]\n",
      " [0 1 0 1 1 1 0 1]\n",
      " [1 1 0 0 0 0 1 1]]\n"
     ]
    }
   ],
   "source": [
    "# Convert to array and display\n",
    "bow_array = X.toarray()\n",
    "print(bow_array)"
   ]
  },
  {
   "cell_type": "code",
   "execution_count": 99,
   "id": "b9e838fb-9bf9-486d-8210-b46f2ac9ed7a",
   "metadata": {},
   "outputs": [
    {
     "data": {
      "text/plain": [
       "array(['brown', 'dog', 'fox', 'jumped', 'lazy', 'over', 'quick', 'the'],\n",
       "      dtype=object)"
      ]
     },
     "execution_count": 99,
     "metadata": {},
     "output_type": "execute_result"
    }
   ],
   "source": [
    "vectorizer.get_feature_names_out()"
   ]
  },
  {
   "cell_type": "markdown",
   "id": "a31246f1-232a-462b-be49-910be27b497b",
   "metadata": {
    "jp-MarkdownHeadingCollapsed": true
   },
   "source": [
    "### 2.2. Term Frequency-Inverse Document Frequency (TF-IDF) Computation\n",
    "\n",
    "- TF-IDF is a statistical measure used to evaluate the importance of a word in a document relative to a collection of documents (corpus). \n",
    "- It adjusts the frequency of words by how commonly they appear across all documents, highlighting words that are unique to specific documents."
   ]
  },
  {
   "cell_type": "code",
   "execution_count": 100,
   "id": "01c9cc98-beac-4790-abab-e721f3423fbf",
   "metadata": {},
   "outputs": [],
   "source": [
    "from sklearn.feature_extraction.text import TfidfVectorizer"
   ]
  },
  {
   "cell_type": "code",
   "execution_count": 136,
   "id": "c4304abe-5088-40e2-b4e8-5b4ca1906785",
   "metadata": {},
   "outputs": [],
   "source": [
    "# Sample corpus\n",
    "corpus = [\n",
    "    'The quick brown fox',\n",
    "    'Jumped over the lazy dog',\n",
    "    'The quick brown dog'\n",
    "]"
   ]
  },
  {
   "cell_type": "code",
   "execution_count": 137,
   "id": "a8c600d8-ca3c-40fb-8cba-fe7f415538be",
   "metadata": {},
   "outputs": [],
   "source": [
    "# Initialize TfidfVectorizer\n",
    "vectorizer = TfidfVectorizer()"
   ]
  },
  {
   "cell_type": "code",
   "execution_count": 138,
   "id": "2b4bc1ad-67df-4829-b6a5-bdfcaadc5782",
   "metadata": {},
   "outputs": [
    {
     "data": {
      "text/html": [
       "<style>#sk-container-id-12 {\n",
       "  /* Definition of color scheme common for light and dark mode */\n",
       "  --sklearn-color-text: black;\n",
       "  --sklearn-color-line: gray;\n",
       "  /* Definition of color scheme for unfitted estimators */\n",
       "  --sklearn-color-unfitted-level-0: #fff5e6;\n",
       "  --sklearn-color-unfitted-level-1: #f6e4d2;\n",
       "  --sklearn-color-unfitted-level-2: #ffe0b3;\n",
       "  --sklearn-color-unfitted-level-3: chocolate;\n",
       "  /* Definition of color scheme for fitted estimators */\n",
       "  --sklearn-color-fitted-level-0: #f0f8ff;\n",
       "  --sklearn-color-fitted-level-1: #d4ebff;\n",
       "  --sklearn-color-fitted-level-2: #b3dbfd;\n",
       "  --sklearn-color-fitted-level-3: cornflowerblue;\n",
       "\n",
       "  /* Specific color for light theme */\n",
       "  --sklearn-color-text-on-default-background: var(--sg-text-color, var(--theme-code-foreground, var(--jp-content-font-color1, black)));\n",
       "  --sklearn-color-background: var(--sg-background-color, var(--theme-background, var(--jp-layout-color0, white)));\n",
       "  --sklearn-color-border-box: var(--sg-text-color, var(--theme-code-foreground, var(--jp-content-font-color1, black)));\n",
       "  --sklearn-color-icon: #696969;\n",
       "\n",
       "  @media (prefers-color-scheme: dark) {\n",
       "    /* Redefinition of color scheme for dark theme */\n",
       "    --sklearn-color-text-on-default-background: var(--sg-text-color, var(--theme-code-foreground, var(--jp-content-font-color1, white)));\n",
       "    --sklearn-color-background: var(--sg-background-color, var(--theme-background, var(--jp-layout-color0, #111)));\n",
       "    --sklearn-color-border-box: var(--sg-text-color, var(--theme-code-foreground, var(--jp-content-font-color1, white)));\n",
       "    --sklearn-color-icon: #878787;\n",
       "  }\n",
       "}\n",
       "\n",
       "#sk-container-id-12 {\n",
       "  color: var(--sklearn-color-text);\n",
       "}\n",
       "\n",
       "#sk-container-id-12 pre {\n",
       "  padding: 0;\n",
       "}\n",
       "\n",
       "#sk-container-id-12 input.sk-hidden--visually {\n",
       "  border: 0;\n",
       "  clip: rect(1px 1px 1px 1px);\n",
       "  clip: rect(1px, 1px, 1px, 1px);\n",
       "  height: 1px;\n",
       "  margin: -1px;\n",
       "  overflow: hidden;\n",
       "  padding: 0;\n",
       "  position: absolute;\n",
       "  width: 1px;\n",
       "}\n",
       "\n",
       "#sk-container-id-12 div.sk-dashed-wrapped {\n",
       "  border: 1px dashed var(--sklearn-color-line);\n",
       "  margin: 0 0.4em 0.5em 0.4em;\n",
       "  box-sizing: border-box;\n",
       "  padding-bottom: 0.4em;\n",
       "  background-color: var(--sklearn-color-background);\n",
       "}\n",
       "\n",
       "#sk-container-id-12 div.sk-container {\n",
       "  /* jupyter's `normalize.less` sets `[hidden] { display: none; }`\n",
       "     but bootstrap.min.css set `[hidden] { display: none !important; }`\n",
       "     so we also need the `!important` here to be able to override the\n",
       "     default hidden behavior on the sphinx rendered scikit-learn.org.\n",
       "     See: https://github.com/scikit-learn/scikit-learn/issues/21755 */\n",
       "  display: inline-block !important;\n",
       "  position: relative;\n",
       "}\n",
       "\n",
       "#sk-container-id-12 div.sk-text-repr-fallback {\n",
       "  display: none;\n",
       "}\n",
       "\n",
       "div.sk-parallel-item,\n",
       "div.sk-serial,\n",
       "div.sk-item {\n",
       "  /* draw centered vertical line to link estimators */\n",
       "  background-image: linear-gradient(var(--sklearn-color-text-on-default-background), var(--sklearn-color-text-on-default-background));\n",
       "  background-size: 2px 100%;\n",
       "  background-repeat: no-repeat;\n",
       "  background-position: center center;\n",
       "}\n",
       "\n",
       "/* Parallel-specific style estimator block */\n",
       "\n",
       "#sk-container-id-12 div.sk-parallel-item::after {\n",
       "  content: \"\";\n",
       "  width: 100%;\n",
       "  border-bottom: 2px solid var(--sklearn-color-text-on-default-background);\n",
       "  flex-grow: 1;\n",
       "}\n",
       "\n",
       "#sk-container-id-12 div.sk-parallel {\n",
       "  display: flex;\n",
       "  align-items: stretch;\n",
       "  justify-content: center;\n",
       "  background-color: var(--sklearn-color-background);\n",
       "  position: relative;\n",
       "}\n",
       "\n",
       "#sk-container-id-12 div.sk-parallel-item {\n",
       "  display: flex;\n",
       "  flex-direction: column;\n",
       "}\n",
       "\n",
       "#sk-container-id-12 div.sk-parallel-item:first-child::after {\n",
       "  align-self: flex-end;\n",
       "  width: 50%;\n",
       "}\n",
       "\n",
       "#sk-container-id-12 div.sk-parallel-item:last-child::after {\n",
       "  align-self: flex-start;\n",
       "  width: 50%;\n",
       "}\n",
       "\n",
       "#sk-container-id-12 div.sk-parallel-item:only-child::after {\n",
       "  width: 0;\n",
       "}\n",
       "\n",
       "/* Serial-specific style estimator block */\n",
       "\n",
       "#sk-container-id-12 div.sk-serial {\n",
       "  display: flex;\n",
       "  flex-direction: column;\n",
       "  align-items: center;\n",
       "  background-color: var(--sklearn-color-background);\n",
       "  padding-right: 1em;\n",
       "  padding-left: 1em;\n",
       "}\n",
       "\n",
       "\n",
       "/* Toggleable style: style used for estimator/Pipeline/ColumnTransformer box that is\n",
       "clickable and can be expanded/collapsed.\n",
       "- Pipeline and ColumnTransformer use this feature and define the default style\n",
       "- Estimators will overwrite some part of the style using the `sk-estimator` class\n",
       "*/\n",
       "\n",
       "/* Pipeline and ColumnTransformer style (default) */\n",
       "\n",
       "#sk-container-id-12 div.sk-toggleable {\n",
       "  /* Default theme specific background. It is overwritten whether we have a\n",
       "  specific estimator or a Pipeline/ColumnTransformer */\n",
       "  background-color: var(--sklearn-color-background);\n",
       "}\n",
       "\n",
       "/* Toggleable label */\n",
       "#sk-container-id-12 label.sk-toggleable__label {\n",
       "  cursor: pointer;\n",
       "  display: block;\n",
       "  width: 100%;\n",
       "  margin-bottom: 0;\n",
       "  padding: 0.5em;\n",
       "  box-sizing: border-box;\n",
       "  text-align: center;\n",
       "}\n",
       "\n",
       "#sk-container-id-12 label.sk-toggleable__label-arrow:before {\n",
       "  /* Arrow on the left of the label */\n",
       "  content: \"▸\";\n",
       "  float: left;\n",
       "  margin-right: 0.25em;\n",
       "  color: var(--sklearn-color-icon);\n",
       "}\n",
       "\n",
       "#sk-container-id-12 label.sk-toggleable__label-arrow:hover:before {\n",
       "  color: var(--sklearn-color-text);\n",
       "}\n",
       "\n",
       "/* Toggleable content - dropdown */\n",
       "\n",
       "#sk-container-id-12 div.sk-toggleable__content {\n",
       "  max-height: 0;\n",
       "  max-width: 0;\n",
       "  overflow: hidden;\n",
       "  text-align: left;\n",
       "  /* unfitted */\n",
       "  background-color: var(--sklearn-color-unfitted-level-0);\n",
       "}\n",
       "\n",
       "#sk-container-id-12 div.sk-toggleable__content.fitted {\n",
       "  /* fitted */\n",
       "  background-color: var(--sklearn-color-fitted-level-0);\n",
       "}\n",
       "\n",
       "#sk-container-id-12 div.sk-toggleable__content pre {\n",
       "  margin: 0.2em;\n",
       "  border-radius: 0.25em;\n",
       "  color: var(--sklearn-color-text);\n",
       "  /* unfitted */\n",
       "  background-color: var(--sklearn-color-unfitted-level-0);\n",
       "}\n",
       "\n",
       "#sk-container-id-12 div.sk-toggleable__content.fitted pre {\n",
       "  /* unfitted */\n",
       "  background-color: var(--sklearn-color-fitted-level-0);\n",
       "}\n",
       "\n",
       "#sk-container-id-12 input.sk-toggleable__control:checked~div.sk-toggleable__content {\n",
       "  /* Expand drop-down */\n",
       "  max-height: 200px;\n",
       "  max-width: 100%;\n",
       "  overflow: auto;\n",
       "}\n",
       "\n",
       "#sk-container-id-12 input.sk-toggleable__control:checked~label.sk-toggleable__label-arrow:before {\n",
       "  content: \"▾\";\n",
       "}\n",
       "\n",
       "/* Pipeline/ColumnTransformer-specific style */\n",
       "\n",
       "#sk-container-id-12 div.sk-label input.sk-toggleable__control:checked~label.sk-toggleable__label {\n",
       "  color: var(--sklearn-color-text);\n",
       "  background-color: var(--sklearn-color-unfitted-level-2);\n",
       "}\n",
       "\n",
       "#sk-container-id-12 div.sk-label.fitted input.sk-toggleable__control:checked~label.sk-toggleable__label {\n",
       "  background-color: var(--sklearn-color-fitted-level-2);\n",
       "}\n",
       "\n",
       "/* Estimator-specific style */\n",
       "\n",
       "/* Colorize estimator box */\n",
       "#sk-container-id-12 div.sk-estimator input.sk-toggleable__control:checked~label.sk-toggleable__label {\n",
       "  /* unfitted */\n",
       "  background-color: var(--sklearn-color-unfitted-level-2);\n",
       "}\n",
       "\n",
       "#sk-container-id-12 div.sk-estimator.fitted input.sk-toggleable__control:checked~label.sk-toggleable__label {\n",
       "  /* fitted */\n",
       "  background-color: var(--sklearn-color-fitted-level-2);\n",
       "}\n",
       "\n",
       "#sk-container-id-12 div.sk-label label.sk-toggleable__label,\n",
       "#sk-container-id-12 div.sk-label label {\n",
       "  /* The background is the default theme color */\n",
       "  color: var(--sklearn-color-text-on-default-background);\n",
       "}\n",
       "\n",
       "/* On hover, darken the color of the background */\n",
       "#sk-container-id-12 div.sk-label:hover label.sk-toggleable__label {\n",
       "  color: var(--sklearn-color-text);\n",
       "  background-color: var(--sklearn-color-unfitted-level-2);\n",
       "}\n",
       "\n",
       "/* Label box, darken color on hover, fitted */\n",
       "#sk-container-id-12 div.sk-label.fitted:hover label.sk-toggleable__label.fitted {\n",
       "  color: var(--sklearn-color-text);\n",
       "  background-color: var(--sklearn-color-fitted-level-2);\n",
       "}\n",
       "\n",
       "/* Estimator label */\n",
       "\n",
       "#sk-container-id-12 div.sk-label label {\n",
       "  font-family: monospace;\n",
       "  font-weight: bold;\n",
       "  display: inline-block;\n",
       "  line-height: 1.2em;\n",
       "}\n",
       "\n",
       "#sk-container-id-12 div.sk-label-container {\n",
       "  text-align: center;\n",
       "}\n",
       "\n",
       "/* Estimator-specific */\n",
       "#sk-container-id-12 div.sk-estimator {\n",
       "  font-family: monospace;\n",
       "  border: 1px dotted var(--sklearn-color-border-box);\n",
       "  border-radius: 0.25em;\n",
       "  box-sizing: border-box;\n",
       "  margin-bottom: 0.5em;\n",
       "  /* unfitted */\n",
       "  background-color: var(--sklearn-color-unfitted-level-0);\n",
       "}\n",
       "\n",
       "#sk-container-id-12 div.sk-estimator.fitted {\n",
       "  /* fitted */\n",
       "  background-color: var(--sklearn-color-fitted-level-0);\n",
       "}\n",
       "\n",
       "/* on hover */\n",
       "#sk-container-id-12 div.sk-estimator:hover {\n",
       "  /* unfitted */\n",
       "  background-color: var(--sklearn-color-unfitted-level-2);\n",
       "}\n",
       "\n",
       "#sk-container-id-12 div.sk-estimator.fitted:hover {\n",
       "  /* fitted */\n",
       "  background-color: var(--sklearn-color-fitted-level-2);\n",
       "}\n",
       "\n",
       "/* Specification for estimator info (e.g. \"i\" and \"?\") */\n",
       "\n",
       "/* Common style for \"i\" and \"?\" */\n",
       "\n",
       ".sk-estimator-doc-link,\n",
       "a:link.sk-estimator-doc-link,\n",
       "a:visited.sk-estimator-doc-link {\n",
       "  float: right;\n",
       "  font-size: smaller;\n",
       "  line-height: 1em;\n",
       "  font-family: monospace;\n",
       "  background-color: var(--sklearn-color-background);\n",
       "  border-radius: 1em;\n",
       "  height: 1em;\n",
       "  width: 1em;\n",
       "  text-decoration: none !important;\n",
       "  margin-left: 1ex;\n",
       "  /* unfitted */\n",
       "  border: var(--sklearn-color-unfitted-level-1) 1pt solid;\n",
       "  color: var(--sklearn-color-unfitted-level-1);\n",
       "}\n",
       "\n",
       ".sk-estimator-doc-link.fitted,\n",
       "a:link.sk-estimator-doc-link.fitted,\n",
       "a:visited.sk-estimator-doc-link.fitted {\n",
       "  /* fitted */\n",
       "  border: var(--sklearn-color-fitted-level-1) 1pt solid;\n",
       "  color: var(--sklearn-color-fitted-level-1);\n",
       "}\n",
       "\n",
       "/* On hover */\n",
       "div.sk-estimator:hover .sk-estimator-doc-link:hover,\n",
       ".sk-estimator-doc-link:hover,\n",
       "div.sk-label-container:hover .sk-estimator-doc-link:hover,\n",
       ".sk-estimator-doc-link:hover {\n",
       "  /* unfitted */\n",
       "  background-color: var(--sklearn-color-unfitted-level-3);\n",
       "  color: var(--sklearn-color-background);\n",
       "  text-decoration: none;\n",
       "}\n",
       "\n",
       "div.sk-estimator.fitted:hover .sk-estimator-doc-link.fitted:hover,\n",
       ".sk-estimator-doc-link.fitted:hover,\n",
       "div.sk-label-container:hover .sk-estimator-doc-link.fitted:hover,\n",
       ".sk-estimator-doc-link.fitted:hover {\n",
       "  /* fitted */\n",
       "  background-color: var(--sklearn-color-fitted-level-3);\n",
       "  color: var(--sklearn-color-background);\n",
       "  text-decoration: none;\n",
       "}\n",
       "\n",
       "/* Span, style for the box shown on hovering the info icon */\n",
       ".sk-estimator-doc-link span {\n",
       "  display: none;\n",
       "  z-index: 9999;\n",
       "  position: relative;\n",
       "  font-weight: normal;\n",
       "  right: .2ex;\n",
       "  padding: .5ex;\n",
       "  margin: .5ex;\n",
       "  width: min-content;\n",
       "  min-width: 20ex;\n",
       "  max-width: 50ex;\n",
       "  color: var(--sklearn-color-text);\n",
       "  box-shadow: 2pt 2pt 4pt #999;\n",
       "  /* unfitted */\n",
       "  background: var(--sklearn-color-unfitted-level-0);\n",
       "  border: .5pt solid var(--sklearn-color-unfitted-level-3);\n",
       "}\n",
       "\n",
       ".sk-estimator-doc-link.fitted span {\n",
       "  /* fitted */\n",
       "  background: var(--sklearn-color-fitted-level-0);\n",
       "  border: var(--sklearn-color-fitted-level-3);\n",
       "}\n",
       "\n",
       ".sk-estimator-doc-link:hover span {\n",
       "  display: block;\n",
       "}\n",
       "\n",
       "/* \"?\"-specific style due to the `<a>` HTML tag */\n",
       "\n",
       "#sk-container-id-12 a.estimator_doc_link {\n",
       "  float: right;\n",
       "  font-size: 1rem;\n",
       "  line-height: 1em;\n",
       "  font-family: monospace;\n",
       "  background-color: var(--sklearn-color-background);\n",
       "  border-radius: 1rem;\n",
       "  height: 1rem;\n",
       "  width: 1rem;\n",
       "  text-decoration: none;\n",
       "  /* unfitted */\n",
       "  color: var(--sklearn-color-unfitted-level-1);\n",
       "  border: var(--sklearn-color-unfitted-level-1) 1pt solid;\n",
       "}\n",
       "\n",
       "#sk-container-id-12 a.estimator_doc_link.fitted {\n",
       "  /* fitted */\n",
       "  border: var(--sklearn-color-fitted-level-1) 1pt solid;\n",
       "  color: var(--sklearn-color-fitted-level-1);\n",
       "}\n",
       "\n",
       "/* On hover */\n",
       "#sk-container-id-12 a.estimator_doc_link:hover {\n",
       "  /* unfitted */\n",
       "  background-color: var(--sklearn-color-unfitted-level-3);\n",
       "  color: var(--sklearn-color-background);\n",
       "  text-decoration: none;\n",
       "}\n",
       "\n",
       "#sk-container-id-12 a.estimator_doc_link.fitted:hover {\n",
       "  /* fitted */\n",
       "  background-color: var(--sklearn-color-fitted-level-3);\n",
       "}\n",
       "</style><div id=\"sk-container-id-12\" class=\"sk-top-container\"><div class=\"sk-text-repr-fallback\"><pre>TfidfVectorizer()</pre><b>In a Jupyter environment, please rerun this cell to show the HTML representation or trust the notebook. <br />On GitHub, the HTML representation is unable to render, please try loading this page with nbviewer.org.</b></div><div class=\"sk-container\" hidden><div class=\"sk-item\"><div class=\"sk-estimator  sk-toggleable\"><input class=\"sk-toggleable__control sk-hidden--visually\" id=\"sk-estimator-id-12\" type=\"checkbox\" checked><label for=\"sk-estimator-id-12\" class=\"sk-toggleable__label  sk-toggleable__label-arrow \">&nbsp;&nbsp;TfidfVectorizer<a class=\"sk-estimator-doc-link \" rel=\"noreferrer\" target=\"_blank\" href=\"https://scikit-learn.org/1.5/modules/generated/sklearn.feature_extraction.text.TfidfVectorizer.html\">?<span>Documentation for TfidfVectorizer</span></a><span class=\"sk-estimator-doc-link \">i<span>Not fitted</span></span></label><div class=\"sk-toggleable__content \"><pre>TfidfVectorizer()</pre></div> </div></div></div></div>"
      ],
      "text/plain": [
       "TfidfVectorizer()"
      ]
     },
     "execution_count": 138,
     "metadata": {},
     "output_type": "execute_result"
    }
   ],
   "source": [
    "vectorizer"
   ]
  },
  {
   "cell_type": "code",
   "execution_count": 139,
   "id": "a5b80a0a-cbf8-41a2-a9a8-d0805d29844f",
   "metadata": {},
   "outputs": [
    {
     "data": {
      "text/plain": [
       "<3x8 sparse matrix of type '<class 'numpy.float64'>'\n",
       "\twith 13 stored elements in Compressed Sparse Row format>"
      ]
     },
     "execution_count": 139,
     "metadata": {},
     "output_type": "execute_result"
    }
   ],
   "source": [
    "# Fit and transform the corpus\n",
    "X = vectorizer.fit_transform(corpus)\n",
    "X"
   ]
  },
  {
   "cell_type": "code",
   "execution_count": 140,
   "id": "bf36a015-f845-4f91-90e9-aa65acb1b8e7",
   "metadata": {},
   "outputs": [
    {
     "name": "stdout",
     "output_type": "stream",
     "text": [
      "[[0.48  0.    0.632 0.    0.    0.    0.48  0.373]\n",
      " [0.    0.384 0.    0.505 0.505 0.505 0.    0.298]\n",
      " [0.527 0.527 0.    0.    0.    0.    0.527 0.409]]\n"
     ]
    }
   ],
   "source": [
    "# Convert to array and display\n",
    "tfidf_array = X.toarray()\n",
    "print(tfidf_array.round(3))"
   ]
  },
  {
   "cell_type": "code",
   "execution_count": 141,
   "id": "06c72e75-0c6b-4d2e-ace6-3a96783adfc0",
   "metadata": {},
   "outputs": [
    {
     "data": {
      "text/plain": [
       "array(['brown', 'dog', 'fox', 'jumped', 'lazy', 'over', 'quick', 'the'],\n",
       "      dtype=object)"
      ]
     },
     "execution_count": 141,
     "metadata": {},
     "output_type": "execute_result"
    }
   ],
   "source": [
    "vectorizer.get_feature_names_out()"
   ]
  },
  {
   "cell_type": "code",
   "execution_count": 155,
   "id": "2f777a6b-29b8-4c5e-bd2b-67fa64a4b7db",
   "metadata": {},
   "outputs": [],
   "source": [
    "# (1/4) * ((np.log(4/3)) + 1)"
   ]
  },
  {
   "cell_type": "markdown",
   "id": "05abee91-8c80-4482-bb6a-fb03e8cc213c",
   "metadata": {},
   "source": [
    "Term Frequency-Inverse Document Frequency (TF-IDF) is a statistical measure used to evaluate the importance of a word within a document relative to a collection of documents (corpus). It balances the frequency of a term in a document with how commonly it appears across all documents, highlighting terms that are unique to specific documents.\n",
    "\n",
    "**Calculating TF-IDF:**\n",
    "\n",
    "1. **Term Frequency (TF):** Measures how frequently a term occurs in a document.\n",
    "   - **Formula:** TF(t, d) = (Number of times term *t* appears in document *d*) / (Total number of terms in document *d*)\n",
    "\n",
    "2. **Inverse Document Frequency (IDF):** Measures how important a term is within the entire corpus.\n",
    "   - **Formula:** IDF(t, D) = log[(Total number of documents in corpus *N*) / (Number of documents containing term *t*)]\n",
    "\n",
    "3. **TF-IDF:** Combines TF and IDF to assess the importance of a term in a document relative to the corpus.\n",
    "   - **Formula:** TF-IDF(t, d, D) = TF(t, d) * IDF(t, D)\n",
    "\n",
    "**Example Calculation:**\n",
    "\n",
    "Consider a corpus with three documents:\n",
    "\n",
    "1. \"The quick brown fox\"\n",
    "2. \"Jumped over the lazy dog\"\n",
    "3. \"The quick brown dog\"\n",
    "\n",
    "Let's calculate the TF-IDF for the term \"quick\" in Document 1.\n",
    "\n",
    "1. **Term Frequency (TF):**\n",
    "   - \"quick\" appears once in Document 1, which has 4 terms.\n",
    "   - TF(\"quick\", Document 1) = 1 / 4 = 0.25\n",
    "\n",
    "2. **Inverse Document Frequency (IDF):**\n",
    "   - \"quick\" appears in Documents 1 and 3 (2 documents).\n",
    "   - IDF(\"quick\") = log(3 / 2) ≈ 0.1761\n",
    "\n",
    "3. **TF-IDF:**\n",
    "   - TF-IDF(\"quick\", Document 1) = 0.25 * 0.1761 ≈ 0.0440\n",
    "\n",
    "4. **Normalisation:**\n",
    "    -  The resulting tf-idf vectors are then normalized by the Euclidean\n",
    "\n",
    "This TF-IDF score indicates that \"quick\" is moderately important in Document 1 relative to the entire corpus."
   ]
  },
  {
   "cell_type": "markdown",
   "id": "aff73f7e-0795-4f96-8d49-7a0877780514",
   "metadata": {},
   "source": [
    "### 2.3. Word Embeddings (e.g., Word2Vec)\n",
    "\n",
    "- Word embeddings are dense vector representations of words that capture semantic relationships between them.\n",
    "- Word2Vec is a popular algorithm for generating word embeddings."
   ]
  },
  {
   "cell_type": "code",
   "execution_count": 156,
   "id": "a042035a-51c2-4789-9cd9-3263f275dacd",
   "metadata": {},
   "outputs": [],
   "source": [
    "from gensim.models import Word2Vec\n",
    "import nltk\n",
    "from nltk.tokenize import word_tokenize"
   ]
  },
  {
   "cell_type": "code",
   "execution_count": 157,
   "id": "70fbf52f-847f-446c-839c-017601d34b3f",
   "metadata": {},
   "outputs": [],
   "source": [
    "# Sample corpus\n",
    "corpus = [\n",
    "    'The quick brown fox',\n",
    "    'Jumped over the lazy dog',\n",
    "    'The quick brown dog'\n",
    "]"
   ]
  },
  {
   "cell_type": "code",
   "execution_count": 158,
   "id": "a4b656cc-4837-48bd-b75d-5a4e168d5850",
   "metadata": {},
   "outputs": [
    {
     "name": "stderr",
     "output_type": "stream",
     "text": [
      "[nltk_data] Downloading package punkt to C:\\Users\\Erle Babji\n",
      "[nltk_data]     Manohar\\AppData\\Roaming\\nltk_data...\n",
      "[nltk_data]   Package punkt is already up-to-date!\n"
     ]
    },
    {
     "data": {
      "text/plain": [
       "[['the', 'quick', 'brown', 'fox'],\n",
       " ['jumped', 'over', 'the', 'lazy', 'dog'],\n",
       " ['the', 'quick', 'brown', 'dog']]"
      ]
     },
     "execution_count": 158,
     "metadata": {},
     "output_type": "execute_result"
    }
   ],
   "source": [
    "# Tokenize the corpus\n",
    "nltk.download('punkt')\n",
    "tokenized_corpus = [word_tokenize(doc.lower()) for doc in corpus]\n",
    "tokenized_corpus"
   ]
  },
  {
   "cell_type": "code",
   "execution_count": 159,
   "id": "8468f074-d6fe-4949-8414-c507649cfd45",
   "metadata": {},
   "outputs": [
    {
     "data": {
      "text/plain": [
       "<gensim.models.word2vec.Word2Vec at 0x24399d9d810>"
      ]
     },
     "execution_count": 159,
     "metadata": {},
     "output_type": "execute_result"
    }
   ],
   "source": [
    "# Initialize and train Word2Vec model\n",
    "model = Word2Vec(tokenized_corpus, vector_size=100, window=5, min_count=1, workers=4)\n",
    "model"
   ]
  },
  {
   "cell_type": "code",
   "execution_count": 160,
   "id": "d54a1f54-01a4-4313-b3f9-2d111386aad2",
   "metadata": {},
   "outputs": [
    {
     "name": "stdout",
     "output_type": "stream",
     "text": [
      "[ 8.1681199e-03 -4.4430327e-03  8.9854337e-03  8.2536647e-03\n",
      " -4.4352221e-03  3.0310510e-04  4.2744912e-03 -3.9263200e-03\n",
      " -5.5599655e-03 -6.5123225e-03 -6.7073823e-04 -2.9592158e-04\n",
      "  4.4630850e-03 -2.4740540e-03 -1.7260908e-04  2.4618758e-03\n",
      "  4.8675989e-03 -3.0808449e-05 -6.3394094e-03 -9.2608072e-03\n",
      "  2.6657581e-05  6.6618943e-03  1.4660227e-03 -8.9665223e-03\n",
      " -7.9386048e-03  6.5519023e-03 -3.7856805e-03  6.2549924e-03\n",
      " -6.6810320e-03  8.4796622e-03 -6.5163244e-03  3.2880199e-03\n",
      " -1.0569858e-03 -6.7875278e-03 -3.2875966e-03 -1.1614120e-03\n",
      " -5.4709399e-03 -1.2113475e-03 -7.5633135e-03  2.6466595e-03\n",
      "  9.0701487e-03 -2.3772502e-03 -9.7651005e-04  3.5135616e-03\n",
      "  8.6650876e-03 -5.9218528e-03 -6.8875779e-03 -2.9329848e-03\n",
      "  9.1476962e-03  8.6626766e-04 -8.6784009e-03 -1.4469790e-03\n",
      "  9.4794659e-03 -7.5494875e-03 -5.3580985e-03  9.3165627e-03\n",
      " -8.9737261e-03  3.8259076e-03  6.6544057e-04  6.6607012e-03\n",
      "  8.3127534e-03 -2.8507852e-03 -3.9923131e-03  8.8979173e-03\n",
      "  2.0896459e-03  6.2489416e-03 -9.4457148e-03  9.5901238e-03\n",
      " -1.3483083e-03 -6.0521150e-03  2.9925345e-03 -4.5661093e-04\n",
      "  4.7064926e-03 -2.2830211e-03 -4.1378425e-03  2.2778988e-03\n",
      "  8.3543835e-03 -4.9956059e-03  2.6686788e-03 -7.9905549e-03\n",
      " -6.7733466e-03 -4.6766878e-04 -8.7677278e-03  2.7894378e-03\n",
      "  1.5985954e-03 -2.3196924e-03  5.0037908e-03  9.7487867e-03\n",
      "  8.4542679e-03 -1.8802249e-03  2.0581519e-03 -4.0036892e-03\n",
      " -8.2414057e-03  6.2779556e-03 -1.9491815e-03 -6.6620467e-04\n",
      " -1.7713320e-03 -4.5356657e-03  4.0617096e-03 -4.2701806e-03]\n"
     ]
    }
   ],
   "source": [
    "# Access the vector for a word\n",
    "vector = model.wv['fox']\n",
    "print(vector)"
   ]
  },
  {
   "cell_type": "markdown",
   "id": "5daa41b7-3754-4be4-b382-6df8611b5497",
   "metadata": {},
   "source": [
    "In this example, Word2Vec from the Gensim library is used to train a model on the tokenized corpus. The vector_size parameter specifies the dimensionality of the word vectors. After training, you can access the vector representation of any word in the vocabulary.\n",
    "\n",
    "Note: For GloVe embeddings, you would typically load pre-trained embeddings due to the computational resources required to train them.\n",
    "\n",
    "These implementations provide a foundation for feature extraction in NLP tasks. Depending on your specific application, you may need to adjust parameters or preprocess the text data accordingly."
   ]
  },
  {
   "cell_type": "markdown",
   "id": "4b74e653-aa8c-4cbe-89bc-e1a6e2cf5746",
   "metadata": {
    "jp-MarkdownHeadingCollapsed": true
   },
   "source": [
    "## 3. Text Classification:\n",
    "\n",
    "- Building classifiers (e.g., Naive Bayes, SVM)\n",
    "- Evaluating model performance (accuracy, precision, recall, F1-score)"
   ]
  },
  {
   "cell_type": "markdown",
   "id": "92f9f6d0-5af4-4973-bc14-eb7a48612a21",
   "metadata": {
    "jp-MarkdownHeadingCollapsed": true
   },
   "source": [
    "Text classification involves assigning predefined labels to text data. Two commonly used algorithms for this task are Naive Bayes and Support Vector Machines (SVM). Evaluating their performance typically involves metrics such as accuracy, precision, recall, and F1-score.\n",
    "\n",
    "1. Building Classifiers: Naive Bayes and SVM\n",
    "\n",
    "- Naive Bayes Classifier:\n",
    "    - Naive Bayes is a probabilistic classifier based on Bayes' theorem, assuming independence among features.\n",
    "    - It's particularly effective for text classification tasks.\n",
    "\n",
    "- Support Vector Machine (SVM):\n",
    "    - SVM is a supervised learning model that finds the hyperplane that best separates different classes in the feature space.\n",
    "    - It's known for its effectiveness in high-dimensional spaces, making it suitable for text classification.\n",
    "\n",
    "2. Evaluating Model Performance\n",
    "After training classifiers, it's essential to evaluate their performance using various metrics:\n",
    "- Accuracy: The proportion of correct predictions.\n",
    "- Precision: The proportion of positive predictions that are actually correct.\n",
    "- Recall: The proportion of actual positives that are correctly identified.\n",
    "- F1-Score: The harmonic mean of precision and recall, providing a balance between the two."
   ]
  },
  {
   "cell_type": "code",
   "execution_count": 161,
   "id": "ec959d06-ccfd-40ba-a2eb-121f6d6b5bd0",
   "metadata": {},
   "outputs": [],
   "source": [
    "from sklearn.model_selection import train_test_split\n",
    "from sklearn.feature_extraction.text import TfidfVectorizer\n",
    "from sklearn.naive_bayes import MultinomialNB\n",
    "from sklearn.svm import SVC\n",
    "from sklearn.metrics import accuracy_score, precision_score, recall_score, f1_score, classification_report\n"
   ]
  },
  {
   "cell_type": "code",
   "execution_count": 164,
   "id": "fa85b267-ebff-4999-8e08-ace383e4a572",
   "metadata": {},
   "outputs": [],
   "source": [
    "# Sample corpus and labels\n",
    "corpus = [\n",
    "    'I love programming',\n",
    "    'Python is great for data science',\n",
    "    'I hate bugs in my code',\n",
    "    'Debugging is not fun',\n",
    "    'Data science is the future',\n",
    "    'I enjoy solving problems with code'\n",
    "]"
   ]
  },
  {
   "cell_type": "code",
   "execution_count": 165,
   "id": "3eb88f21-c010-46cc-a7c7-f809ddd19601",
   "metadata": {},
   "outputs": [],
   "source": [
    "labels = [1, 1, 0, 0, 1, 1]  # 1: Positive, 0: Negative"
   ]
  },
  {
   "cell_type": "code",
   "execution_count": 166,
   "id": "18462fec-d4a5-40d6-ba0b-0e4b1177314c",
   "metadata": {},
   "outputs": [],
   "source": [
    "# Split data into training and testing sets\n",
    "X_train, X_test, y_train, y_test = train_test_split(corpus, labels, test_size=0.33, random_state=42)"
   ]
  },
  {
   "cell_type": "code",
   "execution_count": 167,
   "id": "ab8924d0-7a92-4b32-95f3-3dbe6af2b488",
   "metadata": {},
   "outputs": [],
   "source": [
    "# Convert text data to TF-IDF features\n",
    "vectorizer = TfidfVectorizer()\n",
    "X_train_tfidf = vectorizer.fit_transform(X_train)\n",
    "X_test_tfidf = vectorizer.transform(X_test)"
   ]
  },
  {
   "cell_type": "code",
   "execution_count": 169,
   "id": "b829c366-7937-49a9-ab4f-2ba0d25bf289",
   "metadata": {},
   "outputs": [],
   "source": [
    "# Naive Bayes Classifier\n",
    "nb_classifier = MultinomialNB()\n",
    "nb_classifier.fit(X_train_tfidf, y_train)\n",
    "y_pred_nb = nb_classifier.predict(X_test_tfidf)"
   ]
  },
  {
   "cell_type": "code",
   "execution_count": 170,
   "id": "141539c7-28b0-4e79-b5a0-005e8f0de4c0",
   "metadata": {},
   "outputs": [],
   "source": [
    "# SVM Classifier\n",
    "svm_classifier = SVC(kernel='linear')\n",
    "svm_classifier.fit(X_train_tfidf, y_train)\n",
    "y_pred_svm = svm_classifier.predict(X_test_tfidf)"
   ]
  },
  {
   "cell_type": "code",
   "execution_count": 173,
   "id": "02a98762-663b-4918-9a1b-6a4fbb672588",
   "metadata": {},
   "outputs": [
    {
     "name": "stdout",
     "output_type": "stream",
     "text": [
      "Naive Bayes Classifier Performance:\n",
      "Accuracy: 0.50\n",
      "Precision: 1.00\n",
      "Recall: 0.50\n",
      "F1-Score: 0.67\n",
      "              precision    recall  f1-score   support\n",
      "\n",
      "           0       0.00      0.00      0.00         0\n",
      "           1       1.00      0.50      0.67         2\n",
      "\n",
      "    accuracy                           0.50         2\n",
      "   macro avg       0.50      0.25      0.33         2\n",
      "weighted avg       1.00      0.50      0.67         2\n",
      "\n"
     ]
    },
    {
     "name": "stderr",
     "output_type": "stream",
     "text": [
      "C:\\Users\\Erle Babji Manohar\\anaconda3\\Lib\\site-packages\\sklearn\\metrics\\_classification.py:1531: UndefinedMetricWarning: Recall is ill-defined and being set to 0.0 in labels with no true samples. Use `zero_division` parameter to control this behavior.\n",
      "  _warn_prf(average, modifier, f\"{metric.capitalize()} is\", len(result))\n",
      "C:\\Users\\Erle Babji Manohar\\anaconda3\\Lib\\site-packages\\sklearn\\metrics\\_classification.py:1531: UndefinedMetricWarning: Recall is ill-defined and being set to 0.0 in labels with no true samples. Use `zero_division` parameter to control this behavior.\n",
      "  _warn_prf(average, modifier, f\"{metric.capitalize()} is\", len(result))\n",
      "C:\\Users\\Erle Babji Manohar\\anaconda3\\Lib\\site-packages\\sklearn\\metrics\\_classification.py:1531: UndefinedMetricWarning: Recall is ill-defined and being set to 0.0 in labels with no true samples. Use `zero_division` parameter to control this behavior.\n",
      "  _warn_prf(average, modifier, f\"{metric.capitalize()} is\", len(result))\n"
     ]
    }
   ],
   "source": [
    "# Evaluate Naive Bayes\n",
    "print(\"Naive Bayes Classifier Performance:\")\n",
    "print(f\"Accuracy: {accuracy_score(y_test, y_pred_nb):.2f}\")\n",
    "print(f\"Precision: {precision_score(y_test, y_pred_nb):.2f}\")\n",
    "print(f\"Recall: {recall_score(y_test, y_pred_nb):.2f}\")\n",
    "print(f\"F1-Score: {f1_score(y_test, y_pred_nb):.2f}\")\n",
    "print(classification_report(y_test, y_pred_nb))"
   ]
  },
  {
   "cell_type": "code",
   "execution_count": 172,
   "id": "7765b63d-ec43-465f-86b6-a9c183ff23bf",
   "metadata": {},
   "outputs": [
    {
     "name": "stdout",
     "output_type": "stream",
     "text": [
      "\n",
      "SVM Classifier Performance:\n",
      "Accuracy: 1.00\n",
      "Precision: 1.00\n",
      "Recall: 1.00\n",
      "F1-Score: 1.00\n",
      "              precision    recall  f1-score   support\n",
      "\n",
      "           1       1.00      1.00      1.00         2\n",
      "\n",
      "    accuracy                           1.00         2\n",
      "   macro avg       1.00      1.00      1.00         2\n",
      "weighted avg       1.00      1.00      1.00         2\n",
      "\n"
     ]
    }
   ],
   "source": [
    "# Evaluate SVM\n",
    "print(\"\\nSVM Classifier Performance:\")\n",
    "print(f\"Accuracy: {accuracy_score(y_test, y_pred_svm):.2f}\")\n",
    "print(f\"Precision: {precision_score(y_test, y_pred_svm):.2f}\")\n",
    "print(f\"Recall: {recall_score(y_test, y_pred_svm):.2f}\")\n",
    "print(f\"F1-Score: {f1_score(y_test, y_pred_svm):.2f}\")\n",
    "print(classification_report(y_test, y_pred_svm))"
   ]
  },
  {
   "cell_type": "markdown",
   "id": "ddfb8d57-ae70-40ef-9ed0-8e7ec7af1023",
   "metadata": {},
   "source": [
    "#### Explanation:\n",
    "\n",
    "- Data Preparation: A sample corpus is defined with corresponding labels (1 for positive sentiment, 0 for negative).\n",
    "- Data Splitting: The dataset is split into training and testing sets using train_test_split.\n",
    "- Feature Extraction: TfidfVectorizer converts the text data into TF-IDF features.\n",
    "- Model Training: Both Naive Bayes (MultinomialNB) and SVM (SVC with a linear kernel) classifiers are trained on the training data.\n",
    "- Prediction: Each classifier predicts the labels for the test set.\n",
    "- Evaluation: The performance of each classifier is evaluated using accuracy, precision, recall, F1-score, and a detailed classification report."
   ]
  },
  {
   "cell_type": "markdown",
   "id": "c30622aa-bac5-46c0-832e-5e97f8a216de",
   "metadata": {
    "jp-MarkdownHeadingCollapsed": true
   },
   "source": [
    "## 4. Sentiment Analysis:\n",
    "\n",
    "- Determining sentiment polarity (positive, negative, neutral)\n",
    "- Handling subjective vs. objective statements"
   ]
  },
  {
   "cell_type": "markdown",
   "id": "017ef8b0-0637-4dbd-b40a-0d73179c56a3",
   "metadata": {},
   "source": [
    "### 4.1. Sentiment Analysis: Determining Sentiment Polarity\n",
    "\n",
    "- Sentiment analysis involves determining the emotional tone of a piece of text, classifying it as positive, negative, or neutral.\n",
    "- Additionally, distinguishing between subjective and objective statements is crucial for understanding the context and intent behind the text."
   ]
  },
  {
   "cell_type": "code",
   "execution_count": 174,
   "id": "ae049360-8176-41eb-85b2-512c84850954",
   "metadata": {},
   "outputs": [],
   "source": [
    "from textblob import TextBlob"
   ]
  },
  {
   "cell_type": "code",
   "execution_count": 175,
   "id": "cd245c9b-7672-4a4b-9619-e8118b67def2",
   "metadata": {},
   "outputs": [
    {
     "data": {
      "text/plain": [
       "'I love programming in Python!'"
      ]
     },
     "execution_count": 175,
     "metadata": {},
     "output_type": "execute_result"
    }
   ],
   "source": [
    "# Sample text\n",
    "text = \"I love programming in Python!\"\n",
    "text"
   ]
  },
  {
   "cell_type": "code",
   "execution_count": 176,
   "id": "e783c230-af54-4622-bc1d-82415f006375",
   "metadata": {},
   "outputs": [
    {
     "data": {
      "text/plain": [
       "TextBlob(\"I love programming in Python!\")"
      ]
     },
     "execution_count": 176,
     "metadata": {},
     "output_type": "execute_result"
    }
   ],
   "source": [
    "# Create a TextBlob object\n",
    "blob = TextBlob(text)\n",
    "blob"
   ]
  },
  {
   "cell_type": "code",
   "execution_count": 177,
   "id": "b9a8a910-5665-4e52-b6b4-300fda54b9ee",
   "metadata": {},
   "outputs": [
    {
     "data": {
      "text/plain": [
       "0.625"
      ]
     },
     "execution_count": 177,
     "metadata": {},
     "output_type": "execute_result"
    }
   ],
   "source": [
    "# Get the sentiment polarity\n",
    "sentiment_polarity = blob.sentiment.polarity\n",
    "sentiment_polarity"
   ]
  },
  {
   "cell_type": "code",
   "execution_count": 178,
   "id": "eec25b49-e3cd-406a-87a3-6f050dc64466",
   "metadata": {},
   "outputs": [
    {
     "name": "stdout",
     "output_type": "stream",
     "text": [
      "Sentiment: Positive (Polarity: 0.625)\n"
     ]
    }
   ],
   "source": [
    "# Determine sentiment\n",
    "if sentiment_polarity > 0:\n",
    "    sentiment = 'Positive'\n",
    "elif sentiment_polarity < 0:\n",
    "    sentiment = 'Negative'\n",
    "else:\n",
    "    sentiment = 'Neutral'\n",
    "\n",
    "print(f\"Sentiment: {sentiment} (Polarity: {sentiment_polarity})\")"
   ]
  },
  {
   "cell_type": "markdown",
   "id": "e27cd354-9fe2-4a35-ad6c-54bc97b0bc39",
   "metadata": {},
   "source": [
    "- In this example, TextBlob analyzes the text and returns a polarity score between -1 (negative) and 1 (positive).\n",
    "- Based on this score, the sentiment is classified as positive, negative, or neutral."
   ]
  },
  {
   "cell_type": "markdown",
   "id": "39adc3c4-945b-44c0-8381-022cc37bcf54",
   "metadata": {},
   "source": [
    "### 4.2. Handling Subjective vs. Objective Statements\n",
    "\n",
    "Distinguishing between subjective and objective statements is essential for understanding the context of the text. Subjective statements express personal opinions, feelings, or beliefs, while objective statements are based on factual information.\n",
    "\n",
    "To classify sentences as subjective or objective, you can use machine learning models trained on labeled datasets. For instance, the Cornell Subjectivity Dataset contains 5,000 subjective and 5,000 objective sentences. "
   ]
  },
  {
   "cell_type": "code",
   "execution_count": 179,
   "id": "b86b7d96-d20a-4d83-8a67-3c095967b1e4",
   "metadata": {},
   "outputs": [],
   "source": [
    "from textblob import TextBlob"
   ]
  },
  {
   "cell_type": "code",
   "execution_count": 180,
   "id": "a70ab413-28ab-4814-b428-42be6b1c25aa",
   "metadata": {},
   "outputs": [
    {
     "data": {
      "text/plain": [
       "'The Eiffel Tower is in Paris.'"
      ]
     },
     "execution_count": 180,
     "metadata": {},
     "output_type": "execute_result"
    }
   ],
   "source": [
    "# Sample text\n",
    "text = \"The Eiffel Tower is in Paris.\"\n",
    "text"
   ]
  },
  {
   "cell_type": "code",
   "execution_count": 181,
   "id": "4f9600ea-ddfc-4883-b3be-b4292552f6b0",
   "metadata": {},
   "outputs": [],
   "source": [
    "# Create a TextBlob object\n",
    "blob = TextBlob(text)"
   ]
  },
  {
   "cell_type": "code",
   "execution_count": 182,
   "id": "556dff73-7dfb-4129-9053-358b5b560ef6",
   "metadata": {},
   "outputs": [
    {
     "data": {
      "text/plain": [
       "0.0"
      ]
     },
     "execution_count": 182,
     "metadata": {},
     "output_type": "execute_result"
    }
   ],
   "source": [
    "# Detect subjectivity\n",
    "subjectivity = blob.sentiment.subjectivity\n",
    "subjectivity"
   ]
  },
  {
   "cell_type": "code",
   "execution_count": 183,
   "id": "899485a2-70c0-4553-9ad7-b670745dd4ea",
   "metadata": {},
   "outputs": [
    {
     "name": "stdout",
     "output_type": "stream",
     "text": [
      "Statement: Objective (Subjectivity: 0.0)\n"
     ]
    }
   ],
   "source": [
    "# Determine if the statement is subjective or objective\n",
    "if subjectivity > 0.5:\n",
    "    statement_type = 'Subjective'\n",
    "else:\n",
    "    statement_type = 'Objective'\n",
    "\n",
    "print(f\"Statement: {statement_type} (Subjectivity: {subjectivity})\")"
   ]
  },
  {
   "cell_type": "markdown",
   "id": "838926ea-9cda-4426-a458-52b15e3d99f6",
   "metadata": {
    "jp-MarkdownHeadingCollapsed": true
   },
   "source": [
    "### 4.3 Transfer Learning"
   ]
  },
  {
   "cell_type": "markdown",
   "id": "f3647310-a523-45ae-abc6-7d1fd564fb42",
   "metadata": {},
   "source": [
    "VADER (Valence Aware Dictionary and sEntiment Reasoner) is a lexicon and rule-based sentiment analysis tool specifically attuned to sentiments expressed in social media. It is designed to be fast, accurate, and easy to use, making it a popular choice for sentiment analysis tasks.\n",
    "\n",
    "Key Features of VADER:\n",
    "- Lexicon-Based: VADER uses a dictionary of lexical features (words) that are labeled according to their sentiment polarity (positive, negative, neutral) and intensity.\n",
    "- Rule-Based: It applies grammatical and syntactical rules to account for the effect of punctuation, capitalization, degree modifiers, and conjunctions on sentiment.\n",
    "- Social Media Focused: VADER is particularly effective for analyzing sentiments in social media texts, such as tweets and Facebook posts, due to its handling of emoticons, slang, and abbreviations."
   ]
  },
  {
   "cell_type": "code",
   "execution_count": 185,
   "id": "2dfdf27b-47f0-431b-a02c-0c169fea348c",
   "metadata": {},
   "outputs": [],
   "source": [
    "# !pip install vaderSentiment"
   ]
  },
  {
   "cell_type": "code",
   "execution_count": 186,
   "id": "03f164e2-9f9e-4f8d-a85f-4f4a80bdcb08",
   "metadata": {},
   "outputs": [],
   "source": [
    "from vaderSentiment.vaderSentiment import SentimentIntensityAnalyzer"
   ]
  },
  {
   "cell_type": "code",
   "execution_count": 188,
   "id": "f1c5fdc0-d613-4eea-9fef-f0933747c3cb",
   "metadata": {},
   "outputs": [
    {
     "data": {
      "text/plain": [
       "<vaderSentiment.vaderSentiment.SentimentIntensityAnalyzer at 0x24399d78450>"
      ]
     },
     "execution_count": 188,
     "metadata": {},
     "output_type": "execute_result"
    }
   ],
   "source": [
    "# Initialize the Sentiment Analyzer:\n",
    "analyzer = SentimentIntensityAnalyzer()\n",
    "analyzer"
   ]
  },
  {
   "cell_type": "code",
   "execution_count": 191,
   "id": "929e6c20-6609-48de-8985-9ab9e6c75840",
   "metadata": {},
   "outputs": [
    {
     "name": "stdout",
     "output_type": "stream",
     "text": [
      "{'neg': 0.0, 'neu': 0.325, 'pos': 0.675, 'compound': 0.8516}\n",
      "neg: Negative sentiment score\n",
      "neu: Neutral sentiment score\n",
      "pos: Positive sentiment score\n",
      "compound: Compound score, which is a normalized, weighted composite score\n",
      "The compound score ranges from -1 (most negative) to +1 (most positive).\n",
      "\n"
     ]
    }
   ],
   "source": [
    "# Analyze Sentiment of Text:\n",
    "\n",
    "text = \"I love this product! It's amazing.\"\n",
    "sentiment = analyzer.polarity_scores(text)\n",
    "print(sentiment)\n",
    "\n",
    "print('''neg: Negative sentiment score\n",
    "neu: Neutral sentiment score\n",
    "pos: Positive sentiment score\n",
    "compound: Compound score, which is a normalized, weighted composite score\n",
    "The compound score ranges from -1 (most negative) to +1 (most positive).\n",
    "''')"
   ]
  },
  {
   "cell_type": "markdown",
   "id": "16edd174-bdd3-416f-a1c5-6b896efe1f1e",
   "metadata": {
    "jp-MarkdownHeadingCollapsed": true
   },
   "source": [
    "## 5. Topic Modeling:\n",
    "\n",
    "- Implementing algorithms like Latent Dirichlet Allocation (LDA)\n",
    "- Interpreting and visualizing topics"
   ]
  },
  {
   "cell_type": "markdown",
   "id": "98d7be01-bc69-44e8-ae4f-b9f5121965ff",
   "metadata": {},
   "source": [
    "- Topic modeling is an unsupervised machine learning technique that identifies hidden thematic structures in large collections of text data.\n",
    "- One of the most widely used algorithms for topic modeling is Latent Dirichlet Allocation (LDA)"
   ]
  },
  {
   "cell_type": "markdown",
   "id": "44cc9c6c-7a21-4107-8767-140f12be6295",
   "metadata": {},
   "source": [
    "Gensim is a robust Python library for unsupervised topic modeling and document similarity analysis. It provides efficient implementations of LDA and other topic modeling algorithms."
   ]
  },
  {
   "cell_type": "code",
   "execution_count": 193,
   "id": "af764bac-3012-4772-9d7f-1e4e31f36c7b",
   "metadata": {},
   "outputs": [],
   "source": [
    "# !pip install gensim nltk pyLDAvis"
   ]
  },
  {
   "cell_type": "code",
   "execution_count": 194,
   "id": "9cffe529-163b-4a8b-9dd2-541b3eb0f557",
   "metadata": {},
   "outputs": [],
   "source": [
    "import nltk\n",
    "from nltk.corpus import stopwords\n",
    "from nltk.tokenize import word_tokenize\n",
    "from gensim import corpora\n",
    "from gensim.models import LdaModel\n",
    "import pyLDAvis.gensim_models as gensimvis\n",
    "import pyLDAvis"
   ]
  },
  {
   "cell_type": "code",
   "execution_count": 195,
   "id": "5f765289-b6c2-4202-b92a-0cfe6246c43c",
   "metadata": {},
   "outputs": [
    {
     "name": "stderr",
     "output_type": "stream",
     "text": [
      "[nltk_data] Downloading package punkt to C:\\Users\\Erle Babji\n",
      "[nltk_data]     Manohar\\AppData\\Roaming\\nltk_data...\n",
      "[nltk_data]   Package punkt is already up-to-date!\n",
      "[nltk_data] Downloading package stopwords to C:\\Users\\Erle Babji\n",
      "[nltk_data]     Manohar\\AppData\\Roaming\\nltk_data...\n",
      "[nltk_data]   Package stopwords is already up-to-date!\n"
     ]
    },
    {
     "data": {
      "text/plain": [
       "True"
      ]
     },
     "execution_count": 195,
     "metadata": {},
     "output_type": "execute_result"
    }
   ],
   "source": [
    "# Download NLTK Resources\n",
    "nltk.download('punkt')\n",
    "nltk.download('stopwords')"
   ]
  },
  {
   "cell_type": "code",
   "execution_count": 203,
   "id": "6ec89d7b-d2ba-4f0f-ad0c-8a92c45057d7",
   "metadata": {},
   "outputs": [],
   "source": [
    "# Prepare the Text Data\n",
    "# Sample documents\n",
    "documents = [\n",
    "    \"Natural language processing with Python is fun.\",\n",
    "    \"Topic modeling is a technique in machine learning.\",\n",
    "    \"Gensim is a library for topic modeling.\",\n",
    "    \"Latent Dirichlet Allocation is a popular topic modeling algorithm.\",\n",
    "    \"Python is a versatile programming language.\",\n",
    "    'The quick brown fox',\n",
    "    'Jumped over the lazy dog',\n",
    "    'The quick brown dog'\n",
    "]"
   ]
  },
  {
   "cell_type": "code",
   "execution_count": 204,
   "id": "22977b96-895b-49be-af9f-c9c6d5a10dc1",
   "metadata": {},
   "outputs": [
    {
     "data": {
      "text/plain": [
       "[['natural', 'language', 'processing', 'python', 'fun'],\n",
       " ['topic', 'modeling', 'technique', 'machine', 'learning'],\n",
       " ['gensim', 'library', 'topic', 'modeling'],\n",
       " ['latent',\n",
       "  'dirichlet',\n",
       "  'allocation',\n",
       "  'popular',\n",
       "  'topic',\n",
       "  'modeling',\n",
       "  'algorithm'],\n",
       " ['python', 'versatile', 'programming', 'language'],\n",
       " ['quick', 'brown', 'fox'],\n",
       " ['jumped', 'lazy', 'dog'],\n",
       " ['quick', 'brown', 'dog']]"
      ]
     },
     "execution_count": 204,
     "metadata": {},
     "output_type": "execute_result"
    }
   ],
   "source": [
    "# Tokenize and preprocess\n",
    "stop_words = set(stopwords.words('english'))\n",
    "texts = [\n",
    "    [word for word in word_tokenize(doc.lower()) if word.isalpha() and word not in stop_words]\n",
    "    for doc in documents\n",
    "]\n",
    "texts"
   ]
  },
  {
   "cell_type": "code",
   "execution_count": 205,
   "id": "6c655671-f7aa-495f-b8dc-70a2913c2b9d",
   "metadata": {},
   "outputs": [
    {
     "data": {
      "text/plain": [
       "<gensim.corpora.dictionary.Dictionary at 0x243ad6b0ad0>"
      ]
     },
     "execution_count": 205,
     "metadata": {},
     "output_type": "execute_result"
    }
   ],
   "source": [
    "# Create a Dictionary and Corpus\n",
    "\n",
    "# Create a dictionary from the texts\n",
    "dictionary = corpora.Dictionary(texts)\n",
    "dictionary"
   ]
  },
  {
   "cell_type": "code",
   "execution_count": 206,
   "id": "779a70ca-96e1-484a-82e5-4a4c1cf5c846",
   "metadata": {},
   "outputs": [
    {
     "data": {
      "text/plain": [
       "[[(0, 1), (1, 1), (2, 1), (3, 1), (4, 1)],\n",
       " [(5, 1), (6, 1), (7, 1), (8, 1), (9, 1)],\n",
       " [(7, 1), (9, 1), (10, 1), (11, 1)],\n",
       " [(7, 1), (9, 1), (12, 1), (13, 1), (14, 1), (15, 1), (16, 1)],\n",
       " [(1, 1), (4, 1), (17, 1), (18, 1)],\n",
       " [(19, 1), (20, 1), (21, 1)],\n",
       " [(22, 1), (23, 1), (24, 1)],\n",
       " [(19, 1), (21, 1), (22, 1)]]"
      ]
     },
     "execution_count": 206,
     "metadata": {},
     "output_type": "execute_result"
    }
   ],
   "source": [
    "# Create a corpus: a list of bag-of-words vectors\n",
    "corpus = [dictionary.doc2bow(text) for text in texts]\n",
    "corpus"
   ]
  },
  {
   "cell_type": "code",
   "execution_count": 210,
   "id": "2e6315d3-c048-4895-bb2e-370e44dbc1dc",
   "metadata": {},
   "outputs": [],
   "source": [
    "# Build the LDA model\n",
    "lda_model = LdaModel(\n",
    "    corpus=corpus,\n",
    "    id2word=dictionary,\n",
    "    num_topics=4,  # Number of topics\n",
    "    passes=15\n",
    ")"
   ]
  },
  {
   "cell_type": "code",
   "execution_count": 211,
   "id": "d178fe5b-bc6c-44dc-bc06-0d59cdc370f1",
   "metadata": {},
   "outputs": [
    {
     "name": "stdout",
     "output_type": "stream",
     "text": [
      "(0, '0.184*\"quick\" + 0.184*\"brown\" + 0.103*\"dog\" + 0.102*\"fox\"')\n",
      "(1, '0.106*\"topic\" + 0.106*\"modeling\" + 0.059*\"latent\" + 0.059*\"algorithm\"')\n",
      "(2, '0.088*\"gensim\" + 0.088*\"library\" + 0.088*\"versatile\" + 0.088*\"programming\"')\n",
      "(3, '0.111*\"language\" + 0.111*\"python\" + 0.111*\"natural\" + 0.111*\"fun\"')\n"
     ]
    }
   ],
   "source": [
    "# Display the topics\n",
    "topics = lda_model.print_topics(num_words=4)\n",
    "for topic in topics:\n",
    "    print(topic)"
   ]
  },
  {
   "cell_type": "code",
   "execution_count": 212,
   "id": "0787e64f-d5fe-473b-9077-034b3ebf306e",
   "metadata": {},
   "outputs": [
    {
     "data": {
      "text/html": [
       "\n",
       "<link rel=\"stylesheet\" type=\"text/css\" href=\"https://cdn.jsdelivr.net/gh/bmabey/pyLDAvis@3.4.0/pyLDAvis/js/ldavis.v1.0.0.css\">\n",
       "\n",
       "\n",
       "<div id=\"ldavis_el2557224896491927848094389459\" style=\"background-color:white;\"></div>\n",
       "<script type=\"text/javascript\">\n",
       "\n",
       "var ldavis_el2557224896491927848094389459_data = {\"mdsDat\": {\"x\": [0.007662380585170764, 0.073917937446967, -0.12542233882769396, 0.043842020795556234], \"y\": [0.11763365634059095, -0.014231189095180964, -0.027672449359909004, -0.07573001788550097], \"topics\": [1, 2, 3, 4], \"cluster\": [1, 1, 1, 1], \"Freq\": [41.575914809288165, 23.49129396473908, 17.95737959040879, 16.975411635563965]}, \"tinfo\": {\"Term\": [\"quick\", \"brown\", \"language\", \"python\", \"natural\", \"fun\", \"processing\", \"fox\", \"dog\", \"versatile\", \"gensim\", \"library\", \"programming\", \"topic\", \"modeling\", \"latent\", \"algorithm\", \"popular\", \"allocation\", \"dirichlet\", \"technique\", \"machine\", \"learning\", \"lazy\", \"jumped\", \"latent\", \"algorithm\", \"allocation\", \"popular\", \"dirichlet\", \"technique\", \"learning\", \"machine\", \"lazy\", \"jumped\", \"topic\", \"modeling\", \"dog\", \"fox\", \"natural\", \"fun\", \"processing\", \"gensim\", \"library\", \"programming\", \"versatile\", \"brown\", \"quick\", \"python\", \"language\", \"gensim\", \"library\", \"versatile\", \"programming\", \"python\", \"language\", \"modeling\", \"topic\", \"fox\", \"processing\", \"fun\", \"natural\", \"jumped\", \"lazy\", \"learning\", \"machine\", \"technique\", \"dirichlet\", \"allocation\", \"latent\", \"popular\", \"algorithm\", \"brown\", \"quick\", \"dog\", \"quick\", \"brown\", \"fox\", \"dog\", \"processing\", \"fun\", \"natural\", \"programming\", \"versatile\", \"gensim\", \"library\", \"jumped\", \"lazy\", \"machine\", \"technique\", \"learning\", \"popular\", \"algorithm\", \"allocation\", \"dirichlet\", \"latent\", \"python\", \"language\", \"modeling\", \"topic\", \"natural\", \"fun\", \"processing\", \"language\", \"python\", \"fox\", \"programming\", \"versatile\", \"library\", \"gensim\", \"machine\", \"jumped\", \"lazy\", \"learning\", \"technique\", \"dirichlet\", \"popular\", \"latent\", \"algorithm\", \"allocation\", \"brown\", \"quick\", \"dog\", \"modeling\", \"topic\"], \"Freq\": [1.0, 1.0, 1.0, 1.0, 1.0, 1.0, 1.0, 1.0, 1.0, 1.0, 1.0, 1.0, 1.0, 2.0, 2.0, 1.0, 1.0, 1.0, 1.0, 1.0, 1.0, 1.0, 1.0, 1.0, 1.0, 0.831567762330069, 0.8315669724300588, 0.8315668144500569, 0.8315655506100406, 0.8315642341100236, 0.8314529108685871, 0.8314453804884899, 0.8314105722280408, 0.8313317402070236, 0.8313199970268721, 1.4992823527458716, 1.4992438056253743, 0.8258736364565954, 0.16638668404195747, 0.16636930624173324, 0.16636863482672457, 0.16636808189671742, 0.16638952768199416, 0.16638940919699263, 0.16638218161189935, 0.16637929847686217, 0.16638908007198838, 0.16638755293196866, 0.16640514137219561, 0.16640365372717641, 0.7011689593402273, 0.7011686617997975, 0.7011670550814766, 0.7011631870558893, 0.6992577381434856, 0.6992542866745, 0.6992283411490219, 0.6992200100169876, 0.1403158416169656, 0.14029702218478107, 0.14029441870602039, 0.1402941211655906, 0.14035478965922568, 0.1403514125753475, 0.14032253627663596, 0.14031912943871483, 0.14031896579147843, 0.14030264569890422, 0.140301515045271, 0.14030147041420651, 0.14030115799675524, 0.14030109848866928, 0.14031810292423202, 0.14031316375309744, 0.1404045681731303, 1.1203984581756072, 1.1203869038202097, 0.6223771275870069, 0.626603337776835, 0.12453475303830525, 0.12453300168916033, 0.12453173935308834, 0.12454962813363998, 0.12454893441742024, 0.12454880932105275, 0.12454797913606847, 0.1246164637110729, 0.12461310885394465, 0.12455732724643939, 0.1245563947098817, 0.12455589432441172, 0.12454130353900311, 0.12454096236709176, 0.12454090550510655, 0.12454082589832723, 0.12453979101019613, 0.12458065203277849, 0.12457873009767789, 0.12459317304192494, 0.12459320715911607, 0.6406740722348303, 0.6406730401851632, 0.6406692560030507, 0.6425100885925303, 0.642503810290389, 0.12821122912439797, 0.12821172364819677, 0.12821117537181115, 0.12820283297033574, 0.12820161816187348, 0.12827959166432334, 0.12825567176318575, 0.12825320989470912, 0.12825105979123608, 0.12824800664430436, 0.12819328651091544, 0.12819307150056813, 0.1281926522303909, 0.12819239421797413, 0.12819220070866155, 0.1282105410912866, 0.1282043272922495, 0.12831444484162136, 0.1283066399660142, 0.1282845154012766], \"Total\": [1.0, 1.0, 1.0, 1.0, 1.0, 1.0, 1.0, 1.0, 1.0, 1.0, 1.0, 1.0, 1.0, 2.0, 2.0, 1.0, 1.0, 1.0, 1.0, 1.0, 1.0, 1.0, 1.0, 1.0, 1.0, 1.2246016759848626, 1.224601427503794, 1.224601435709096, 1.224601083646367, 1.2246009922181704, 1.2245762780142515, 1.2245748708807738, 1.2245666205775183, 1.2245494715310248, 1.2245469221603564, 2.451380085323252, 2.451371959782335, 1.7211959872481821, 1.057290882370328, 1.0718692389952424, 1.0718690954070684, 1.0718691131228544, 1.1203089145051477, 1.1203088831031944, 1.1203067204496255, 1.1203064633475701, 1.5553046279077167, 1.555303502152923, 1.6327473418388487, 1.6327467590918847, 1.1203089145051477, 1.1203088831031944, 1.1203064633475701, 1.1203067204496255, 1.6327473418388487, 1.6327467590918847, 2.451371959782335, 2.451380085323252, 1.057290882370328, 1.0718691131228544, 1.0718690954070684, 1.0718692389952424, 1.2245469221603564, 1.2245494715310248, 1.2245748708807738, 1.2245666205775183, 1.2245762780142515, 1.2246009922181704, 1.224601435709096, 1.2246016759848626, 1.224601083646367, 1.224601427503794, 1.5553046279077167, 1.555303502152923, 1.7211959872481821, 1.555303502152923, 1.5553046279077167, 1.057290882370328, 1.7211959872481821, 1.0718691131228544, 1.0718690954070684, 1.0718692389952424, 1.1203067204496255, 1.1203064633475701, 1.1203089145051477, 1.1203088831031944, 1.2245469221603564, 1.2245494715310248, 1.2245666205775183, 1.2245762780142515, 1.2245748708807738, 1.224601083646367, 1.224601427503794, 1.224601435709096, 1.2246009922181704, 1.2246016759848626, 1.6327473418388487, 1.6327467590918847, 2.451371959782335, 2.451380085323252, 1.0718692389952424, 1.0718690954070684, 1.0718691131228544, 1.6327467590918847, 1.6327473418388487, 1.057290882370328, 1.1203067204496255, 1.1203064633475701, 1.1203088831031944, 1.1203089145051477, 1.2245666205775183, 1.2245469221603564, 1.2245494715310248, 1.2245748708807738, 1.2245762780142515, 1.2246009922181704, 1.224601083646367, 1.2246016759848626, 1.224601427503794, 1.224601435709096, 1.5553046279077167, 1.555303502152923, 1.7211959872481821, 2.451371959782335, 2.451380085323252], \"Category\": [\"Default\", \"Default\", \"Default\", \"Default\", \"Default\", \"Default\", \"Default\", \"Default\", \"Default\", \"Default\", \"Default\", \"Default\", \"Default\", \"Default\", \"Default\", \"Default\", \"Default\", \"Default\", \"Default\", \"Default\", \"Default\", \"Default\", \"Default\", \"Default\", \"Default\", \"Topic1\", \"Topic1\", \"Topic1\", \"Topic1\", \"Topic1\", \"Topic1\", \"Topic1\", \"Topic1\", \"Topic1\", \"Topic1\", \"Topic1\", \"Topic1\", \"Topic1\", \"Topic1\", \"Topic1\", \"Topic1\", \"Topic1\", \"Topic1\", \"Topic1\", \"Topic1\", \"Topic1\", \"Topic1\", \"Topic1\", \"Topic1\", \"Topic1\", \"Topic2\", \"Topic2\", \"Topic2\", \"Topic2\", \"Topic2\", \"Topic2\", \"Topic2\", \"Topic2\", \"Topic2\", \"Topic2\", \"Topic2\", \"Topic2\", \"Topic2\", \"Topic2\", \"Topic2\", \"Topic2\", \"Topic2\", \"Topic2\", \"Topic2\", \"Topic2\", \"Topic2\", \"Topic2\", \"Topic2\", \"Topic2\", \"Topic2\", \"Topic3\", \"Topic3\", \"Topic3\", \"Topic3\", \"Topic3\", \"Topic3\", \"Topic3\", \"Topic3\", \"Topic3\", \"Topic3\", \"Topic3\", \"Topic3\", \"Topic3\", \"Topic3\", \"Topic3\", \"Topic3\", \"Topic3\", \"Topic3\", \"Topic3\", \"Topic3\", \"Topic3\", \"Topic3\", \"Topic3\", \"Topic3\", \"Topic3\", \"Topic4\", \"Topic4\", \"Topic4\", \"Topic4\", \"Topic4\", \"Topic4\", \"Topic4\", \"Topic4\", \"Topic4\", \"Topic4\", \"Topic4\", \"Topic4\", \"Topic4\", \"Topic4\", \"Topic4\", \"Topic4\", \"Topic4\", \"Topic4\", \"Topic4\", \"Topic4\", \"Topic4\", \"Topic4\", \"Topic4\", \"Topic4\", \"Topic4\"], \"logprob\": [25.0, 24.0, 23.0, 22.0, 21.0, 20.0, 19.0, 18.0, 17.0, 16.0, 15.0, 14.0, 13.0, 12.0, 11.0, 10.0, 9.0, 8.0, 7.0, 6.0, 5.0, 4.0, 3.0, 2.0, 1.0, -2.8332, -2.8332, -2.8332, -2.8332, -2.8332, -2.8333, -2.8333, -2.8333, -2.8334, -2.8335, -2.2437, -2.2438, -2.84, -4.4422, -4.4423, -4.4423, -4.4423, -4.4421, -4.4421, -4.4422, -4.4422, -4.4421, -4.4421, -4.442, -4.4421, -2.4328, -2.4328, -2.4328, -2.4328, -2.4356, -2.4356, -2.4356, -2.4356, -4.0417, -4.0418, -4.0418, -4.0418, -4.0414, -4.0414, -4.0416, -4.0417, -4.0417, -4.0418, -4.0418, -4.0418, -4.0418, -4.0418, -4.0417, -4.0417, -4.041, -1.6955, -1.6955, -2.2834, -2.2766, -3.8924, -3.8924, -3.8924, -3.8922, -3.8922, -3.8922, -3.8923, -3.8917, -3.8917, -3.8922, -3.8922, -3.8922, -3.8923, -3.8923, -3.8923, -3.8923, -3.8923, -3.892, -3.892, -3.8919, -3.8919, -2.1982, -2.1982, -2.1982, -2.1953, -2.1953, -3.807, -3.807, -3.807, -3.8071, -3.8071, -3.8065, -3.8067, -3.8067, -3.8067, -3.8067, -3.8072, -3.8072, -3.8072, -3.8072, -3.8072, -3.807, -3.8071, -3.8062, -3.8063, -3.8065], \"loglift\": [25.0, 24.0, 23.0, 22.0, 21.0, 20.0, 19.0, 18.0, 17.0, 16.0, 15.0, 14.0, 13.0, 12.0, 11.0, 10.0, 9.0, 8.0, 7.0, 6.0, 5.0, 4.0, 3.0, 2.0, 1.0, 0.4906, 0.4906, 0.4906, 0.4906, 0.4906, 0.4905, 0.4905, 0.4904, 0.4903, 0.4903, 0.386, 0.386, 0.1433, -0.9715, -0.9853, -0.9853, -0.9853, -1.0294, -1.0294, -1.0294, -1.0294, -1.3574, -1.3575, -1.4059, -1.406, 0.9799, 0.9799, 0.9799, 0.9799, 0.6005, 0.6005, 0.1941, 0.1941, -0.571, -0.5849, -0.5849, -0.5849, -0.7176, -0.7176, -0.7179, -0.7179, -0.7179, -0.718, -0.718, -0.718, -0.718, -0.718, -0.957, -0.957, -1.0577, 1.3892, 1.3892, 1.1873, 0.7067, -0.4354, -0.4354, -0.4354, -0.4795, -0.4795, -0.4795, -0.4795, -0.5679, -0.5679, -0.5684, -0.5684, -0.5684, -0.5686, -0.5686, -0.5686, -0.5686, -0.5686, -0.8559, -0.8559, -1.2622, -1.2622, 1.2588, 1.2588, 1.2588, 0.8408, 0.8408, -0.3364, -0.3943, -0.3943, -0.3943, -0.3944, -0.4827, -0.4829, -0.4829, -0.483, -0.483, -0.4834, -0.4834, -0.4834, -0.4834, -0.4834, -0.7223, -0.7224, -0.8229, -1.1766, -1.1768]}, \"token.table\": {\"Topic\": [1, 1, 3, 1, 1, 3, 3, 4, 2, 1, 2, 4, 1, 1, 1, 2, 1, 1, 2, 4, 1, 4, 2, 2, 4, 3, 1, 1, 2, 2], \"Freq\": [0.8165922213878049, 0.816592215916322, 0.642960859278903, 0.8165925116463107, 0.5809913614769591, 0.5809913614769591, 0.9458135094838913, 0.9329497457151945, 0.8926109460101106, 0.8166285684143415, 0.6124648506766528, 0.6124648506766528, 0.8165920556949826, 0.8166268682879133, 0.8166099303350488, 0.8926109710297526, 0.8166154321015133, 0.4079348284985658, 0.4079348284985658, 0.9329496207367497, 0.8165924506798607, 0.9329497302954591, 0.892612694136708, 0.6124646320806563, 0.6124646320806563, 0.6429613246647705, 0.816608991986665, 0.407933476325086, 0.407933476325086, 0.8926128989847257], \"Term\": [\"algorithm\", \"allocation\", \"brown\", \"dirichlet\", \"dog\", \"dog\", \"fox\", \"fun\", \"gensim\", \"jumped\", \"language\", \"language\", \"latent\", \"lazy\", \"learning\", \"library\", \"machine\", \"modeling\", \"modeling\", \"natural\", \"popular\", \"processing\", \"programming\", \"python\", \"python\", \"quick\", \"technique\", \"topic\", \"topic\", \"versatile\"]}, \"R\": 25, \"lambda.step\": 0.01, \"plot.opts\": {\"xlab\": \"PC1\", \"ylab\": \"PC2\"}, \"topic.order\": [2, 3, 1, 4]};\n",
       "\n",
       "function LDAvis_load_lib(url, callback){\n",
       "  var s = document.createElement('script');\n",
       "  s.src = url;\n",
       "  s.async = true;\n",
       "  s.onreadystatechange = s.onload = callback;\n",
       "  s.onerror = function(){console.warn(\"failed to load library \" + url);};\n",
       "  document.getElementsByTagName(\"head\")[0].appendChild(s);\n",
       "}\n",
       "\n",
       "if(typeof(LDAvis) !== \"undefined\"){\n",
       "   // already loaded: just create the visualization\n",
       "   !function(LDAvis){\n",
       "       new LDAvis(\"#\" + \"ldavis_el2557224896491927848094389459\", ldavis_el2557224896491927848094389459_data);\n",
       "   }(LDAvis);\n",
       "}else if(typeof define === \"function\" && define.amd){\n",
       "   // require.js is available: use it to load d3/LDAvis\n",
       "   require.config({paths: {d3: \"https://d3js.org/d3.v5\"}});\n",
       "   require([\"d3\"], function(d3){\n",
       "      window.d3 = d3;\n",
       "      LDAvis_load_lib(\"https://cdn.jsdelivr.net/gh/bmabey/pyLDAvis@3.4.0/pyLDAvis/js/ldavis.v3.0.0.js\", function(){\n",
       "        new LDAvis(\"#\" + \"ldavis_el2557224896491927848094389459\", ldavis_el2557224896491927848094389459_data);\n",
       "      });\n",
       "    });\n",
       "}else{\n",
       "    // require.js not available: dynamically load d3 & LDAvis\n",
       "    LDAvis_load_lib(\"https://d3js.org/d3.v5.js\", function(){\n",
       "         LDAvis_load_lib(\"https://cdn.jsdelivr.net/gh/bmabey/pyLDAvis@3.4.0/pyLDAvis/js/ldavis.v3.0.0.js\", function(){\n",
       "                 new LDAvis(\"#\" + \"ldavis_el2557224896491927848094389459\", ldavis_el2557224896491927848094389459_data);\n",
       "            })\n",
       "         });\n",
       "}\n",
       "</script>"
      ],
      "text/plain": [
       "<IPython.core.display.HTML object>"
      ]
     },
     "execution_count": 212,
     "metadata": {},
     "output_type": "execute_result"
    }
   ],
   "source": [
    "# Visualize the topics\n",
    "vis = gensimvis.prepare(lda_model, corpus, dictionary)\n",
    "pyLDAvis.display(vis)"
   ]
  },
  {
   "cell_type": "markdown",
   "id": "0983ab1b-0c13-4461-9d09-cf6d7974c0cc",
   "metadata": {},
   "source": [
    "Interpreting the Topics:\n",
    "\n",
    "- Each topic is represented as a distribution over words.\n",
    "- By examining the words with the highest probabilities in each topic, you can interpret the underlying themes.\n",
    "- For example, if a topic has high probabilities for words like \"python,\" \"programming,\" and \"language,\" it may represent a theme related to programming languages."
   ]
  },
  {
   "cell_type": "markdown",
   "id": "d1df0228-9409-4b03-a0ba-649015ef8b3f",
   "metadata": {
    "jp-MarkdownHeadingCollapsed": true
   },
   "source": [
    "## 6. **Named Entity Recognition (NER)**:\n",
    "   - Identifying entities such as names, organizations, dates\n",
    "   - Utilizing libraries like spaCy or NLTK for NER tasks"
   ]
  },
  {
   "cell_type": "markdown",
   "id": "5290cb8c-141d-4811-94d8-d07ce9a28eb8",
   "metadata": {},
   "source": [
    "Named Entity Recognition (NER) is a fundamental task in Natural Language Processing (NLP) that involves identifying and classifying named entities—such as people, organizations, locations, dates, and more—within unstructured text. This process is essential for information extraction, content categorization, and enhancing the understanding of textual data."
   ]
  },
  {
   "cell_type": "markdown",
   "id": "9658f97d-9595-4d11-8a00-625c9cc4f247",
   "metadata": {
    "jp-MarkdownHeadingCollapsed": true
   },
   "source": [
    "### 6.1 Implementing NER with spaCy:\n",
    "spaCy is a powerful and efficient NLP library in Python that provides pre-trained models for various languages, including capabilities for NER."
   ]
  },
  {
   "cell_type": "code",
   "execution_count": 213,
   "id": "56146f15-d5d4-4998-812a-d4557f5c76fc",
   "metadata": {},
   "outputs": [],
   "source": [
    "import spacy"
   ]
  },
  {
   "cell_type": "code",
   "execution_count": 214,
   "id": "69002e09-56b2-43d7-af74-f7f27a0d8ee2",
   "metadata": {},
   "outputs": [],
   "source": [
    "# Load the pre-trained English model\n",
    "nlp = spacy.load('en_core_web_sm')"
   ]
  },
  {
   "cell_type": "code",
   "execution_count": 215,
   "id": "34a0f01f-be17-41cc-9518-9f36baa408ea",
   "metadata": {},
   "outputs": [
    {
     "data": {
      "text/plain": [
       "Apple Inc. is planning to open a new store in New York City on January 1, 2025."
      ]
     },
     "execution_count": 215,
     "metadata": {},
     "output_type": "execute_result"
    }
   ],
   "source": [
    "# Process the Text\n",
    "\n",
    "# Sample text\n",
    "text = \"Apple Inc. is planning to open a new store in New York City on January 1, 2025.\"\n",
    "\n",
    "# Process the text\n",
    "doc = nlp(text)\n",
    "doc"
   ]
  },
  {
   "cell_type": "code",
   "execution_count": 216,
   "id": "e42cac78-3f0d-43a3-b795-216ae14f7ffe",
   "metadata": {},
   "outputs": [
    {
     "name": "stdout",
     "output_type": "stream",
     "text": [
      "Text: Apple Inc., Label: ORG\n",
      "Text: New York City, Label: GPE\n",
      "Text: January 1, 2025, Label: DATE\n"
     ]
    }
   ],
   "source": [
    "# Extract Named Entities\n",
    "\n",
    "# Iterate over the recognized entities\n",
    "for ent in doc.ents:\n",
    "    print(f\"Text: {ent.text}, Label: {ent.label_}\")"
   ]
  },
  {
   "cell_type": "markdown",
   "id": "109f30f1-22f6-490a-be25-9ddff754700e",
   "metadata": {
    "jp-MarkdownHeadingCollapsed": true
   },
   "source": [
    "### 6.2 Implementing NER with NLTK\n",
    "\n",
    "The Natural Language Toolkit (NLTK) is another popular library for NLP tasks. While spaCy offers more advanced NER capabilities, NLTK provides basic NER functionalities:"
   ]
  },
  {
   "cell_type": "code",
   "execution_count": 236,
   "id": "46424e45-4e95-4aec-80d6-206b45ae090b",
   "metadata": {},
   "outputs": [],
   "source": [
    "# !pip install svgling"
   ]
  },
  {
   "cell_type": "code",
   "execution_count": 237,
   "id": "c017127e-5c4e-4acd-af5a-4dca24421c46",
   "metadata": {},
   "outputs": [
    {
     "name": "stderr",
     "output_type": "stream",
     "text": [
      "[nltk_data] Downloading package punkt to C:\\Users\\Erle Babji\n",
      "[nltk_data]     Manohar\\AppData\\Roaming\\nltk_data...\n",
      "[nltk_data]   Package punkt is already up-to-date!\n",
      "[nltk_data] Downloading package words to C:\\Users\\Erle Babji\n",
      "[nltk_data]     Manohar\\AppData\\Roaming\\nltk_data...\n",
      "[nltk_data]   Package words is already up-to-date!\n",
      "[nltk_data] Downloading package averaged_perceptron_tagger_eng to\n",
      "[nltk_data]     C:\\Users\\Erle Babji\n",
      "[nltk_data]     Manohar\\AppData\\Roaming\\nltk_data...\n",
      "[nltk_data]   Package averaged_perceptron_tagger_eng is already up-to-\n",
      "[nltk_data]       date!\n",
      "[nltk_data] Downloading package maxent_ne_chunker_tab to C:\\Users\\Erle\n",
      "[nltk_data]     Babji Manohar\\AppData\\Roaming\\nltk_data...\n",
      "[nltk_data]   Package maxent_ne_chunker_tab is already up-to-date!\n"
     ]
    },
    {
     "data": {
      "text/plain": [
       "True"
      ]
     },
     "execution_count": 237,
     "metadata": {},
     "output_type": "execute_result"
    }
   ],
   "source": [
    "import nltk\n",
    "nltk.download('punkt')\n",
    "nltk.download('words')\n",
    "nltk.download('averaged_perceptron_tagger_eng')\n",
    "nltk.download('maxent_ne_chunker_tab')"
   ]
  },
  {
   "cell_type": "code",
   "execution_count": 238,
   "id": "0fdaa089-b9cb-425b-9e03-a488e2ae73d3",
   "metadata": {},
   "outputs": [],
   "source": [
    "# Import NLTK and Process the Text\n",
    "\n",
    "import nltk\n",
    "from nltk import word_tokenize, pos_tag, ne_chunk"
   ]
  },
  {
   "cell_type": "code",
   "execution_count": 239,
   "id": "d2acef72-9351-4631-bfa9-6f91be5aba6a",
   "metadata": {},
   "outputs": [],
   "source": [
    "# Sample text\n",
    "text = \"Apple Inc. is planning to open a new store in New York City on January 1, 2025.\""
   ]
  },
  {
   "cell_type": "code",
   "execution_count": 240,
   "id": "87d6b2dd-99a1-4f62-b640-563b161e403a",
   "metadata": {},
   "outputs": [
    {
     "data": {
      "text/plain": [
       "['Apple',\n",
       " 'Inc.',\n",
       " 'is',\n",
       " 'planning',\n",
       " 'to',\n",
       " 'open',\n",
       " 'a',\n",
       " 'new',\n",
       " 'store',\n",
       " 'in',\n",
       " 'New',\n",
       " 'York',\n",
       " 'City',\n",
       " 'on',\n",
       " 'January',\n",
       " '1',\n",
       " ',',\n",
       " '2025',\n",
       " '.']"
      ]
     },
     "execution_count": 240,
     "metadata": {},
     "output_type": "execute_result"
    }
   ],
   "source": [
    "# Tokenize the text\n",
    "words = word_tokenize(text)\n",
    "words"
   ]
  },
  {
   "cell_type": "code",
   "execution_count": 241,
   "id": "ba1496c8-8761-47e0-b497-01a06f04fefa",
   "metadata": {},
   "outputs": [
    {
     "data": {
      "text/plain": [
       "[('Apple', 'NNP'),\n",
       " ('Inc.', 'NNP'),\n",
       " ('is', 'VBZ'),\n",
       " ('planning', 'VBG'),\n",
       " ('to', 'TO'),\n",
       " ('open', 'VB'),\n",
       " ('a', 'DT'),\n",
       " ('new', 'JJ'),\n",
       " ('store', 'NN'),\n",
       " ('in', 'IN'),\n",
       " ('New', 'NNP'),\n",
       " ('York', 'NNP'),\n",
       " ('City', 'NNP'),\n",
       " ('on', 'IN'),\n",
       " ('January', 'NNP'),\n",
       " ('1', 'CD'),\n",
       " (',', ','),\n",
       " ('2025', 'CD'),\n",
       " ('.', '.')]"
      ]
     },
     "execution_count": 241,
     "metadata": {},
     "output_type": "execute_result"
    }
   ],
   "source": [
    "# Part-of-speech tagging\n",
    "pos_tags = pos_tag(words)\n",
    "pos_tags"
   ]
  },
  {
   "cell_type": "code",
   "execution_count": 242,
   "id": "5bc36010-2d6f-4322-845e-c3cff0dfd083",
   "metadata": {},
   "outputs": [
    {
     "data": {
      "image/svg+xml": [
       "<svg baseProfile=\"full\" height=\"168px\" preserveAspectRatio=\"xMidYMid meet\" style=\"font-family: times, serif; font-weight: normal; font-style: normal; font-size: 16px\" version=\"1.1\" viewBox=\"0,0,904.0,168.0\" width=\"904px\" xmlns=\"http://www.w3.org/2000/svg\" xmlns:ev=\"http://www.w3.org/2001/xml-events\" xmlns:xlink=\"http://www.w3.org/1999/xlink\"><defs /><svg width=\"100%\" x=\"0\" y=\"0px\"><defs /><text text-anchor=\"middle\" x=\"50%\" y=\"16px\">S</text></svg><svg width=\"7.07965%\" x=\"0%\" y=\"48px\"><defs /><svg width=\"100%\" x=\"0\" y=\"0px\"><defs /><text text-anchor=\"middle\" x=\"50%\" y=\"16px\">PERSON</text></svg><svg width=\"100%\" x=\"0%\" y=\"48px\"><defs /><svg width=\"100%\" x=\"0\" y=\"0px\"><defs /><text text-anchor=\"middle\" x=\"50%\" y=\"16px\">Apple</text></svg><svg width=\"100%\" x=\"0%\" y=\"48px\"><defs /><svg width=\"100%\" x=\"0\" y=\"0px\"><defs /><text text-anchor=\"middle\" x=\"50%\" y=\"16px\">NNP</text></svg></svg><line stroke=\"black\" x1=\"50%\" x2=\"50%\" y1=\"20px\" y2=\"48px\" /></svg><line stroke=\"black\" x1=\"50%\" x2=\"50%\" y1=\"20px\" y2=\"48px\" /></svg><line stroke=\"black\" x1=\"50%\" x2=\"3.53982%\" y1=\"20px\" y2=\"48px\" /><svg width=\"12.3894%\" x=\"7.07965%\" y=\"48px\"><defs /><svg width=\"100%\" x=\"0\" y=\"0px\"><defs /><text text-anchor=\"middle\" x=\"50%\" y=\"16px\">ORGANIZATION</text></svg><svg width=\"100%\" x=\"0%\" y=\"48px\"><defs /><svg width=\"100%\" x=\"0\" y=\"0px\"><defs /><text text-anchor=\"middle\" x=\"50%\" y=\"16px\">Inc.</text></svg><svg width=\"100%\" x=\"0%\" y=\"48px\"><defs /><svg width=\"100%\" x=\"0\" y=\"0px\"><defs /><text text-anchor=\"middle\" x=\"50%\" y=\"16px\">NNP</text></svg></svg><line stroke=\"black\" x1=\"50%\" x2=\"50%\" y1=\"20px\" y2=\"48px\" /></svg><line stroke=\"black\" x1=\"50%\" x2=\"50%\" y1=\"20px\" y2=\"48px\" /></svg><line stroke=\"black\" x1=\"50%\" x2=\"13.2743%\" y1=\"20px\" y2=\"48px\" /><svg width=\"4.42478%\" x=\"19.469%\" y=\"48px\"><defs /><svg width=\"100%\" x=\"0\" y=\"0px\"><defs /><text text-anchor=\"middle\" x=\"50%\" y=\"16px\">is</text></svg><svg width=\"100%\" x=\"0%\" y=\"48px\"><defs /><svg width=\"100%\" x=\"0\" y=\"0px\"><defs /><text text-anchor=\"middle\" x=\"50%\" y=\"16px\">VBZ</text></svg></svg><line stroke=\"black\" x1=\"50%\" x2=\"50%\" y1=\"20px\" y2=\"48px\" /></svg><line stroke=\"black\" x1=\"50%\" x2=\"21.6814%\" y1=\"20px\" y2=\"48px\" /><svg width=\"8.84956%\" x=\"23.8938%\" y=\"48px\"><defs /><svg width=\"100%\" x=\"0\" y=\"0px\"><defs /><text text-anchor=\"middle\" x=\"50%\" y=\"16px\">planning</text></svg><svg width=\"100%\" x=\"0%\" y=\"48px\"><defs /><svg width=\"100%\" x=\"0\" y=\"0px\"><defs /><text text-anchor=\"middle\" x=\"50%\" y=\"16px\">VBG</text></svg></svg><line stroke=\"black\" x1=\"50%\" x2=\"50%\" y1=\"20px\" y2=\"48px\" /></svg><line stroke=\"black\" x1=\"50%\" x2=\"28.3186%\" y1=\"20px\" y2=\"48px\" /><svg width=\"3.53982%\" x=\"32.7434%\" y=\"48px\"><defs /><svg width=\"100%\" x=\"0\" y=\"0px\"><defs /><text text-anchor=\"middle\" x=\"50%\" y=\"16px\">to</text></svg><svg width=\"100%\" x=\"0%\" y=\"48px\"><defs /><svg width=\"100%\" x=\"0\" y=\"0px\"><defs /><text text-anchor=\"middle\" x=\"50%\" y=\"16px\">TO</text></svg></svg><line stroke=\"black\" x1=\"50%\" x2=\"50%\" y1=\"20px\" y2=\"48px\" /></svg><line stroke=\"black\" x1=\"50%\" x2=\"34.5133%\" y1=\"20px\" y2=\"48px\" /><svg width=\"5.30973%\" x=\"36.2832%\" y=\"48px\"><defs /><svg width=\"100%\" x=\"0\" y=\"0px\"><defs /><text text-anchor=\"middle\" x=\"50%\" y=\"16px\">open</text></svg><svg width=\"100%\" x=\"0%\" y=\"48px\"><defs /><svg width=\"100%\" x=\"0\" y=\"0px\"><defs /><text text-anchor=\"middle\" x=\"50%\" y=\"16px\">VB</text></svg></svg><line stroke=\"black\" x1=\"50%\" x2=\"50%\" y1=\"20px\" y2=\"48px\" /></svg><line stroke=\"black\" x1=\"50%\" x2=\"38.9381%\" y1=\"20px\" y2=\"48px\" /><svg width=\"3.53982%\" x=\"41.5929%\" y=\"48px\"><defs /><svg width=\"100%\" x=\"0\" y=\"0px\"><defs /><text text-anchor=\"middle\" x=\"50%\" y=\"16px\">a</text></svg><svg width=\"100%\" x=\"0%\" y=\"48px\"><defs /><svg width=\"100%\" x=\"0\" y=\"0px\"><defs /><text text-anchor=\"middle\" x=\"50%\" y=\"16px\">DT</text></svg></svg><line stroke=\"black\" x1=\"50%\" x2=\"50%\" y1=\"20px\" y2=\"48px\" /></svg><line stroke=\"black\" x1=\"50%\" x2=\"43.3628%\" y1=\"20px\" y2=\"48px\" /><svg width=\"4.42478%\" x=\"45.1327%\" y=\"48px\"><defs /><svg width=\"100%\" x=\"0\" y=\"0px\"><defs /><text text-anchor=\"middle\" x=\"50%\" y=\"16px\">new</text></svg><svg width=\"100%\" x=\"0%\" y=\"48px\"><defs /><svg width=\"100%\" x=\"0\" y=\"0px\"><defs /><text text-anchor=\"middle\" x=\"50%\" y=\"16px\">JJ</text></svg></svg><line stroke=\"black\" x1=\"50%\" x2=\"50%\" y1=\"20px\" y2=\"48px\" /></svg><line stroke=\"black\" x1=\"50%\" x2=\"47.3451%\" y1=\"20px\" y2=\"48px\" /><svg width=\"6.19469%\" x=\"49.5575%\" y=\"48px\"><defs /><svg width=\"100%\" x=\"0\" y=\"0px\"><defs /><text text-anchor=\"middle\" x=\"50%\" y=\"16px\">store</text></svg><svg width=\"100%\" x=\"0%\" y=\"48px\"><defs /><svg width=\"100%\" x=\"0\" y=\"0px\"><defs /><text text-anchor=\"middle\" x=\"50%\" y=\"16px\">NN</text></svg></svg><line stroke=\"black\" x1=\"50%\" x2=\"50%\" y1=\"20px\" y2=\"48px\" /></svg><line stroke=\"black\" x1=\"50%\" x2=\"52.6549%\" y1=\"20px\" y2=\"48px\" /><svg width=\"3.53982%\" x=\"55.7522%\" y=\"48px\"><defs /><svg width=\"100%\" x=\"0\" y=\"0px\"><defs /><text text-anchor=\"middle\" x=\"50%\" y=\"16px\">in</text></svg><svg width=\"100%\" x=\"0%\" y=\"48px\"><defs /><svg width=\"100%\" x=\"0\" y=\"0px\"><defs /><text text-anchor=\"middle\" x=\"50%\" y=\"16px\">IN</text></svg></svg><line stroke=\"black\" x1=\"50%\" x2=\"50%\" y1=\"20px\" y2=\"48px\" /></svg><line stroke=\"black\" x1=\"50%\" x2=\"57.5221%\" y1=\"20px\" y2=\"48px\" /><svg width=\"15.0442%\" x=\"59.292%\" y=\"48px\"><defs /><svg width=\"100%\" x=\"0\" y=\"0px\"><defs /><text text-anchor=\"middle\" x=\"50%\" y=\"16px\">GPE</text></svg><svg width=\"29.4118%\" x=\"0%\" y=\"48px\"><defs /><svg width=\"100%\" x=\"0\" y=\"0px\"><defs /><text text-anchor=\"middle\" x=\"50%\" y=\"16px\">New</text></svg><svg width=\"100%\" x=\"0%\" y=\"48px\"><defs /><svg width=\"100%\" x=\"0\" y=\"0px\"><defs /><text text-anchor=\"middle\" x=\"50%\" y=\"16px\">NNP</text></svg></svg><line stroke=\"black\" x1=\"50%\" x2=\"50%\" y1=\"20px\" y2=\"48px\" /></svg><line stroke=\"black\" x1=\"50%\" x2=\"14.7059%\" y1=\"20px\" y2=\"48px\" /><svg width=\"35.2941%\" x=\"29.4118%\" y=\"48px\"><defs /><svg width=\"100%\" x=\"0\" y=\"0px\"><defs /><text text-anchor=\"middle\" x=\"50%\" y=\"16px\">York</text></svg><svg width=\"100%\" x=\"0%\" y=\"48px\"><defs /><svg width=\"100%\" x=\"0\" y=\"0px\"><defs /><text text-anchor=\"middle\" x=\"50%\" y=\"16px\">NNP</text></svg></svg><line stroke=\"black\" x1=\"50%\" x2=\"50%\" y1=\"20px\" y2=\"48px\" /></svg><line stroke=\"black\" x1=\"50%\" x2=\"47.0588%\" y1=\"20px\" y2=\"48px\" /><svg width=\"35.2941%\" x=\"64.7059%\" y=\"48px\"><defs /><svg width=\"100%\" x=\"0\" y=\"0px\"><defs /><text text-anchor=\"middle\" x=\"50%\" y=\"16px\">City</text></svg><svg width=\"100%\" x=\"0%\" y=\"48px\"><defs /><svg width=\"100%\" x=\"0\" y=\"0px\"><defs /><text text-anchor=\"middle\" x=\"50%\" y=\"16px\">NNP</text></svg></svg><line stroke=\"black\" x1=\"50%\" x2=\"50%\" y1=\"20px\" y2=\"48px\" /></svg><line stroke=\"black\" x1=\"50%\" x2=\"82.3529%\" y1=\"20px\" y2=\"48px\" /></svg><line stroke=\"black\" x1=\"50%\" x2=\"66.8142%\" y1=\"20px\" y2=\"48px\" /><svg width=\"3.53982%\" x=\"74.3363%\" y=\"48px\"><defs /><svg width=\"100%\" x=\"0\" y=\"0px\"><defs /><text text-anchor=\"middle\" x=\"50%\" y=\"16px\">on</text></svg><svg width=\"100%\" x=\"0%\" y=\"48px\"><defs /><svg width=\"100%\" x=\"0\" y=\"0px\"><defs /><text text-anchor=\"middle\" x=\"50%\" y=\"16px\">IN</text></svg></svg><line stroke=\"black\" x1=\"50%\" x2=\"50%\" y1=\"20px\" y2=\"48px\" /></svg><line stroke=\"black\" x1=\"50%\" x2=\"76.1062%\" y1=\"20px\" y2=\"48px\" /><svg width=\"7.9646%\" x=\"77.8761%\" y=\"48px\"><defs /><svg width=\"100%\" x=\"0\" y=\"0px\"><defs /><text text-anchor=\"middle\" x=\"50%\" y=\"16px\">January</text></svg><svg width=\"100%\" x=\"0%\" y=\"48px\"><defs /><svg width=\"100%\" x=\"0\" y=\"0px\"><defs /><text text-anchor=\"middle\" x=\"50%\" y=\"16px\">NNP</text></svg></svg><line stroke=\"black\" x1=\"50%\" x2=\"50%\" y1=\"20px\" y2=\"48px\" /></svg><line stroke=\"black\" x1=\"50%\" x2=\"81.8584%\" y1=\"20px\" y2=\"48px\" /><svg width=\"3.53982%\" x=\"85.8407%\" y=\"48px\"><defs /><svg width=\"100%\" x=\"0\" y=\"0px\"><defs /><text text-anchor=\"middle\" x=\"50%\" y=\"16px\">1</text></svg><svg width=\"100%\" x=\"0%\" y=\"48px\"><defs /><svg width=\"100%\" x=\"0\" y=\"0px\"><defs /><text text-anchor=\"middle\" x=\"50%\" y=\"16px\">CD</text></svg></svg><line stroke=\"black\" x1=\"50%\" x2=\"50%\" y1=\"20px\" y2=\"48px\" /></svg><line stroke=\"black\" x1=\"50%\" x2=\"87.6106%\" y1=\"20px\" y2=\"48px\" /><svg width=\"2.65487%\" x=\"89.3805%\" y=\"48px\"><defs /><svg width=\"100%\" x=\"0\" y=\"0px\"><defs /><text text-anchor=\"middle\" x=\"50%\" y=\"16px\">,</text></svg><svg width=\"100%\" x=\"0%\" y=\"48px\"><defs /><svg width=\"100%\" x=\"0\" y=\"0px\"><defs /><text text-anchor=\"middle\" x=\"50%\" y=\"16px\">,</text></svg></svg><line stroke=\"black\" x1=\"50%\" x2=\"50%\" y1=\"20px\" y2=\"48px\" /></svg><line stroke=\"black\" x1=\"50%\" x2=\"90.708%\" y1=\"20px\" y2=\"48px\" /><svg width=\"5.30973%\" x=\"92.0354%\" y=\"48px\"><defs /><svg width=\"100%\" x=\"0\" y=\"0px\"><defs /><text text-anchor=\"middle\" x=\"50%\" y=\"16px\">2025</text></svg><svg width=\"100%\" x=\"0%\" y=\"48px\"><defs /><svg width=\"100%\" x=\"0\" y=\"0px\"><defs /><text text-anchor=\"middle\" x=\"50%\" y=\"16px\">CD</text></svg></svg><line stroke=\"black\" x1=\"50%\" x2=\"50%\" y1=\"20px\" y2=\"48px\" /></svg><line stroke=\"black\" x1=\"50%\" x2=\"94.6903%\" y1=\"20px\" y2=\"48px\" /><svg width=\"2.65487%\" x=\"97.3451%\" y=\"48px\"><defs /><svg width=\"100%\" x=\"0\" y=\"0px\"><defs /><text text-anchor=\"middle\" x=\"50%\" y=\"16px\">.</text></svg><svg width=\"100%\" x=\"0%\" y=\"48px\"><defs /><svg width=\"100%\" x=\"0\" y=\"0px\"><defs /><text text-anchor=\"middle\" x=\"50%\" y=\"16px\">.</text></svg></svg><line stroke=\"black\" x1=\"50%\" x2=\"50%\" y1=\"20px\" y2=\"48px\" /></svg><line stroke=\"black\" x1=\"50%\" x2=\"98.6726%\" y1=\"20px\" y2=\"48px\" /></svg>"
      ],
      "text/plain": [
       "Tree('S', [Tree('PERSON', [('Apple', 'NNP')]), Tree('ORGANIZATION', [('Inc.', 'NNP')]), ('is', 'VBZ'), ('planning', 'VBG'), ('to', 'TO'), ('open', 'VB'), ('a', 'DT'), ('new', 'JJ'), ('store', 'NN'), ('in', 'IN'), Tree('GPE', [('New', 'NNP'), ('York', 'NNP'), ('City', 'NNP')]), ('on', 'IN'), ('January', 'NNP'), ('1', 'CD'), (',', ','), ('2025', 'CD'), ('.', '.')])"
      ]
     },
     "execution_count": 242,
     "metadata": {},
     "output_type": "execute_result"
    }
   ],
   "source": [
    "# Named Entity Recognition\n",
    "named_entities = ne_chunk(pos_tags)\n",
    "named_entities"
   ]
  },
  {
   "cell_type": "code",
   "execution_count": 247,
   "id": "c26d9195-a59e-498a-966c-4ee038d3b53a",
   "metadata": {},
   "outputs": [
    {
     "name": "stdout",
     "output_type": "stream",
     "text": [
      "                                                                        S                                                                           \n",
      "   _____________________________________________________________________|_____________________________________________________________               \n",
      "  |         |         |      |     |     |       |       |     |        |       |    |     |     |    PERSON  ORGANIZATION           GPE            \n",
      "  |         |         |      |     |     |       |       |     |        |       |    |     |     |      |          |           _______|________      \n",
      "is/VBZ planning/VBG to/TO open/VB a/DT new/JJ store/NN in/IN on/IN January/NNP 1/CD ,/, 2025/CD ./. Apple/NNP   Inc./NNP   New/NNP York/NNP City/NNP\n",
      "\n"
     ]
    }
   ],
   "source": [
    "# Print the named entities\n",
    "named_entities.pretty_print()"
   ]
  },
  {
   "cell_type": "code",
   "execution_count": 249,
   "id": "0a42652d-7c7c-4d44-9ccf-44f1831c8c79",
   "metadata": {},
   "outputs": [
    {
     "name": "stdout",
     "output_type": "stream",
     "text": [
      "(S\n",
      "  (PERSON Apple/NNP)\n",
      "  (ORGANIZATION Inc./NNP)\n",
      "  is/VBZ\n",
      "  planning/VBG\n",
      "  to/TO\n",
      "  open/VB\n",
      "  a/DT\n",
      "  new/JJ\n",
      "  store/NN\n",
      "  in/IN\n",
      "  (GPE New/NNP York/NNP City/NNP)\n",
      "  on/IN\n",
      "  January/NNP\n",
      "  1/CD\n",
      "  ,/,\n",
      "  2025/CD\n",
      "  ./.)\n"
     ]
    }
   ],
   "source": [
    "print(named_entities)"
   ]
  },
  {
   "cell_type": "markdown",
   "id": "c24764ac-6654-4506-af80-f2fbf6e78837",
   "metadata": {},
   "source": [
    "Interpreting NER Results:\n",
    "\n",
    "The output from NER tools typically includes the recognized entities along with their corresponding labels:\n",
    "\n",
    "- Person (PERSON): Individuals or groups of people.\n",
    "- Organization (ORG): Companies, agencies, institutions, etc.\n",
    "- Location (GPE): Geopolitical entities like countries, cities, states.\n",
    "- Date (DATE): Absolute or relative dates or periods.\n",
    "\n",
    "These labels help in understanding the context and significance of the entities within the text"
   ]
  },
  {
   "cell_type": "markdown",
   "id": "f246a7dc-292e-4249-995b-78dec62531c9",
   "metadata": {
    "jp-MarkdownHeadingCollapsed": true
   },
   "source": [
    "## 7. **Language Modeling**:\n",
    "   - Understanding n-gram models\n",
    "   - Implementing predictive text features"
   ]
  },
  {
   "cell_type": "markdown",
   "id": "52aba622-3f51-4639-97ff-f5c4ded51bab",
   "metadata": {},
   "source": [
    "Language modeling is a fundamental task in Natural Language Processing (NLP) that involves predicting the likelihood of a sequence of words. N-gram models are a class of probabilistic language models that predict the next word in a sequence based on the previous 'n-1' words. These models are widely used in various NLP applications, including predictive text features.\n",
    "\n",
    "Understanding N-Gram Models\n",
    "\n",
    "An n-gram is a contiguous sequence of 'n' items from a given sample of text or speech. In the context of language modeling, these items are typically words. For example:\n",
    "\n",
    "Unigram (1-gram): Each word is considered independently.\n",
    "Bigram (2-gram): Each pair of consecutive words is considered.\n",
    "Trigram (3-gram): Each triplet of consecutive words is considered.\n",
    "The probability of a word sequence is estimated based on the frequencies of these n-grams in a given corpus."
   ]
  },
  {
   "cell_type": "code",
   "execution_count": 250,
   "id": "cc162415-2c90-438c-862d-6fdaf62ceca4",
   "metadata": {},
   "outputs": [],
   "source": [
    "import nltk\n",
    "from nltk import word_tokenize\n",
    "from nltk.util import ngrams\n",
    "from collections import Counter\n"
   ]
  },
  {
   "cell_type": "code",
   "execution_count": 251,
   "id": "f438d2f3-dd83-4f5e-99ca-5e7b8345b953",
   "metadata": {},
   "outputs": [
    {
     "name": "stderr",
     "output_type": "stream",
     "text": [
      "[nltk_data] Downloading package punkt to C:\\Users\\Erle Babji\n",
      "[nltk_data]     Manohar\\AppData\\Roaming\\nltk_data...\n",
      "[nltk_data]   Package punkt is already up-to-date!\n"
     ]
    },
    {
     "data": {
      "text/plain": [
       "True"
      ]
     },
     "execution_count": 251,
     "metadata": {},
     "output_type": "execute_result"
    }
   ],
   "source": [
    "nltk.download('punkt')"
   ]
  },
  {
   "cell_type": "code",
   "execution_count": 252,
   "id": "f42a88ce-1ce6-4432-8f52-1cf9a52c3b7c",
   "metadata": {},
   "outputs": [],
   "source": [
    "# Prepare the Text Data\n",
    "\n",
    "text = \"This is a simple example of a bigram model.\"\n",
    "tokens = word_tokenize(text.lower())  # Tokenize and convert to lowercase\n",
    "bigrams = list(ngrams(tokens, 2))  # Generate bigrams\n",
    "bigram_freq = Counter(bigrams)  # Count frequency of each bigram"
   ]
  },
  {
   "cell_type": "code",
   "execution_count": 254,
   "id": "23092fb1-8c2f-49ed-9481-ae3a9bb74c93",
   "metadata": {},
   "outputs": [
    {
     "data": {
      "text/plain": [
       "['this', 'is', 'a', 'simple', 'example', 'of', 'a', 'bigram', 'model', '.']"
      ]
     },
     "execution_count": 254,
     "metadata": {},
     "output_type": "execute_result"
    }
   ],
   "source": [
    "tokens"
   ]
  },
  {
   "cell_type": "code",
   "execution_count": 255,
   "id": "2d7a847d-8326-4c5b-88bb-4a07a23b52fb",
   "metadata": {},
   "outputs": [
    {
     "data": {
      "text/plain": [
       "[('this', 'is'),\n",
       " ('is', 'a'),\n",
       " ('a', 'simple'),\n",
       " ('simple', 'example'),\n",
       " ('example', 'of'),\n",
       " ('of', 'a'),\n",
       " ('a', 'bigram'),\n",
       " ('bigram', 'model'),\n",
       " ('model', '.')]"
      ]
     },
     "execution_count": 255,
     "metadata": {},
     "output_type": "execute_result"
    }
   ],
   "source": [
    "bigrams"
   ]
  },
  {
   "cell_type": "code",
   "execution_count": 256,
   "id": "eefd0913-e0e1-48b5-a50d-bf64909c0f09",
   "metadata": {},
   "outputs": [
    {
     "data": {
      "text/plain": [
       "Counter({('this', 'is'): 1,\n",
       "         ('is', 'a'): 1,\n",
       "         ('a', 'simple'): 1,\n",
       "         ('simple', 'example'): 1,\n",
       "         ('example', 'of'): 1,\n",
       "         ('of', 'a'): 1,\n",
       "         ('a', 'bigram'): 1,\n",
       "         ('bigram', 'model'): 1,\n",
       "         ('model', '.'): 1})"
      ]
     },
     "execution_count": 256,
     "metadata": {},
     "output_type": "execute_result"
    }
   ],
   "source": [
    "bigram_freq"
   ]
  },
  {
   "cell_type": "code",
   "execution_count": 257,
   "id": "f9cba3fa-3214-4e84-a795-4579774dec16",
   "metadata": {},
   "outputs": [
    {
     "name": "stdout",
     "output_type": "stream",
     "text": [
      "Bigram: ('this', 'is'), Frequency: 1\n",
      "Bigram: ('is', 'a'), Frequency: 1\n",
      "Bigram: ('a', 'simple'), Frequency: 1\n",
      "Bigram: ('simple', 'example'), Frequency: 1\n",
      "Bigram: ('example', 'of'), Frequency: 1\n",
      "Bigram: ('of', 'a'), Frequency: 1\n",
      "Bigram: ('a', 'bigram'), Frequency: 1\n",
      "Bigram: ('bigram', 'model'), Frequency: 1\n",
      "Bigram: ('model', '.'), Frequency: 1\n"
     ]
    }
   ],
   "source": [
    "# Display the Bigram Frequencies\n",
    "\n",
    "for bigram, freq in bigram_freq.items():\n",
    "    print(f\"Bigram: {bigram}, Frequency: {freq}\")"
   ]
  },
  {
   "cell_type": "markdown",
   "id": "3020a445-e9df-41ed-afef-141907bbad3c",
   "metadata": {},
   "source": [
    "### Implementing Predictive Text Features\n",
    "\n",
    "- Predictive text features suggest the next word in a sequence based on the preceding context.\n",
    "- A simple approach is to use a bigram model to predict the next word given the current word."
   ]
  },
  {
   "cell_type": "code",
   "execution_count": 259,
   "id": "0c62f86d-0f42-4d80-bc38-3888e0e8f135",
   "metadata": {},
   "outputs": [],
   "source": [
    "# Define a Function to Predict the Next Word\n",
    "\n",
    "def predict_next_word(current_word, bigram_freq):\n",
    "    possible_bigrams = {bigram: freq for bigram, freq in bigram_freq.items() if bigram[0] == current_word}\n",
    "    if not possible_bigrams:\n",
    "        return None\n",
    "    next_word = max(possible_bigrams, key=possible_bigrams.get)[1]\n",
    "    return next_word"
   ]
  },
  {
   "cell_type": "code",
   "execution_count": 260,
   "id": "9cb80d4e-f296-482f-ac71-86d19cbe94c5",
   "metadata": {},
   "outputs": [
    {
     "name": "stdout",
     "output_type": "stream",
     "text": [
      "The next word after 'a' is 'simple'.\n"
     ]
    }
   ],
   "source": [
    "# Use the Function to Predict the Next Word\n",
    "current_word = \"a\"\n",
    "next_word = predict_next_word(current_word, bigram_freq)\n",
    "if next_word:\n",
    "    print(f\"The next word after '{current_word}' is '{next_word}'.\")\n",
    "else:\n",
    "    print(f\"No prediction available for the word '{current_word}'.\")"
   ]
  },
  {
   "cell_type": "markdown",
   "id": "dc6d7eb2-ee20-45a9-9610-6f0bf984bbbc",
   "metadata": {},
   "source": [
    "**Limitations and Considerations**\n",
    "\n",
    "While n-gram models are straightforward and efficient, they have limitations:\n",
    "\n",
    "- Data Sparsity: Higher-order n-grams (e.g., trigrams) require large corpora to estimate probabilities accurately.\n",
    "- Contextual Understanding: N-gram models lack deep contextual understanding and may not capture long-range dependencies.\n",
    "- For more advanced predictive text features, machine learning models like Recurrent Neural Networks (RNNs) and Long Short-Term Memory (LSTM) networks can be employed. These models can capture complex patterns and dependencies in text data."
   ]
  },
  {
   "cell_type": "markdown",
   "id": "dc846b5d-4de0-4e07-b651-891f41f61bc3",
   "metadata": {
    "jp-MarkdownHeadingCollapsed": true
   },
   "source": [
    "## 8. **Text Summarization**:\n",
    "   - Extractive vs. abstractive summarization techniques\n",
    "   - Implementing basic summarization algorithms"
   ]
  },
  {
   "cell_type": "markdown",
   "id": "f7e74533-b36e-46f0-bc46-5d18578cb6f5",
   "metadata": {},
   "source": [
    "Text summarization is a pivotal task in Natural Language Processing (NLP) that involves condensing lengthy texts into concise summaries while retaining essential information. The two primary approaches to text summarization are:\n",
    "\n",
    "- Extractive Summarization: This method identifies and extracts significant sentences or phrases directly from the original text to form a summary. It relies on statistical and linguistic analysis to determine the importance of sentences.\n",
    "\n",
    "- Abstractive Summarization: This approach generates new sentences that convey the core ideas of the original text, often rephrasing or paraphrasing the content. It aims to produce summaries that are more coherent and human-like."
   ]
  },
  {
   "cell_type": "markdown",
   "id": "f71293ca-0085-4f82-9fbd-4ab5db506b68",
   "metadata": {
    "jp-MarkdownHeadingCollapsed": true
   },
   "source": [
    "### 8.1 Implementing Extractive Summarization with NLTK\n"
   ]
  },
  {
   "cell_type": "code",
   "execution_count": 261,
   "id": "34773984-9619-47e9-adad-7d721291b1a8",
   "metadata": {},
   "outputs": [],
   "source": [
    "import nltk\n",
    "from nltk.tokenize import sent_tokenize, word_tokenize\n",
    "from nltk.corpus import stopwords\n",
    "from nltk.probability import FreqDist\n",
    "from nltk.tokenize.treebank import TreebankWordDetokenizer"
   ]
  },
  {
   "cell_type": "code",
   "execution_count": 262,
   "id": "47924086-5906-4849-b3f4-772ee90bc374",
   "metadata": {},
   "outputs": [
    {
     "name": "stderr",
     "output_type": "stream",
     "text": [
      "[nltk_data] Downloading package punkt to C:\\Users\\Erle Babji\n",
      "[nltk_data]     Manohar\\AppData\\Roaming\\nltk_data...\n",
      "[nltk_data]   Package punkt is already up-to-date!\n",
      "[nltk_data] Downloading package stopwords to C:\\Users\\Erle Babji\n",
      "[nltk_data]     Manohar\\AppData\\Roaming\\nltk_data...\n",
      "[nltk_data]   Package stopwords is already up-to-date!\n"
     ]
    },
    {
     "data": {
      "text/plain": [
       "True"
      ]
     },
     "execution_count": 262,
     "metadata": {},
     "output_type": "execute_result"
    }
   ],
   "source": [
    "# Download NLTK Resources\n",
    "nltk.download('punkt')\n",
    "nltk.download('stopwords')"
   ]
  },
  {
   "cell_type": "code",
   "execution_count": 263,
   "id": "8fadf51e-5cc6-4c9c-8e12-acfb31b3f5a0",
   "metadata": {},
   "outputs": [],
   "source": [
    "# Define the Summarization Function\n",
    "\n",
    "def extractive_summary(text, num_sentences=3):\n",
    "    # Tokenize the text into sentences\n",
    "    sentences = sent_tokenize(text)\n",
    "    \n",
    "    # Tokenize each sentence into words and remove stopwords\n",
    "    stop_words = set(stopwords.words('english'))\n",
    "    word_tokens = [word_tokenize(sentence.lower()) for sentence in sentences]\n",
    "    filtered_words = [\n",
    "        [word for word in tokens if word.isalnum() and word not in stop_words]\n",
    "        for tokens in word_tokens\n",
    "    ]\n",
    "    \n",
    "    # Flatten the list of filtered words and calculate frequency distribution\n",
    "    all_words = [word for sublist in filtered_words for word in sublist]\n",
    "    freq_dist = FreqDist(all_words)\n",
    "    \n",
    "    # Score sentences based on the sum of word frequencies\n",
    "    sentence_scores = {}\n",
    "    for i, sentence in enumerate(sentences):\n",
    "        score = sum(freq_dist[word] for word in filtered_words[i])\n",
    "        sentence_scores[i] = score\n",
    "    \n",
    "    # Sort sentences by score and select the top 'num_sentences'\n",
    "    ranked_sentences = sorted(sentence_scores, key=sentence_scores.get, reverse=True)\n",
    "    selected_sentences = ranked_sentences[:num_sentences]\n",
    "    \n",
    "    # Detokenize and return the summary\n",
    "    summary = [sentences[i] for i in sorted(selected_sentences)]\n",
    "    return TreebankWordDetokenizer().detokenize(summary)\n"
   ]
  },
  {
   "cell_type": "code",
   "execution_count": 264,
   "id": "1d0c9cc3-0dde-4552-8389-4331ee90ba24",
   "metadata": {},
   "outputs": [
    {
     "name": "stdout",
     "output_type": "stream",
     "text": [
      "Natural Language Processing (NLP) is a field of artificial intelligence that focuses on the interaction between computers and human language. NLP combines computational linguistics, computer science, and cognitive psychology to process and analyze large amounts of natural language data.\n"
     ]
    }
   ],
   "source": [
    "# Use the Function to Summarize Text\n",
    "\n",
    "text = \"\"\"\n",
    "Natural Language Processing (NLP) is a field of artificial intelligence that focuses on the interaction between computers and human language. \n",
    "It involves enabling machines to understand, interpret, and generate human language in a way that is both meaningful and useful. \n",
    "NLP combines computational linguistics, computer science, and cognitive psychology to process and analyze large amounts of natural language data. \n",
    "Applications of NLP include machine translation, sentiment analysis, and speech recognition.\n",
    "\"\"\"\n",
    "\n",
    "summary = extractive_summary(text, num_sentences=2)\n",
    "print(summary)"
   ]
  },
  {
   "cell_type": "markdown",
   "id": "8fa72ea1-964a-4626-aa34-01df4d577f8f",
   "metadata": {
    "jp-MarkdownHeadingCollapsed": true
   },
   "source": [
    "### 8.2 Implementing Abstractive Summarization with Hugging Face Transformers\n",
    "\n",
    "For abstractive summarization, pre-trained models like BERT, GPT, or T5 can be utilized. "
   ]
  },
  {
   "cell_type": "code",
   "execution_count": 4,
   "id": "ce75f30a-2c01-451d-814e-0393261256fe",
   "metadata": {
    "scrolled": true
   },
   "outputs": [],
   "source": [
    "# Install the Libraries\n",
    "# !pip install transformers\n",
    "# !pip install tensorflow\n",
    "# !pip install tf-keras"
   ]
  },
  {
   "cell_type": "code",
   "execution_count": 5,
   "id": "6d1ed74e-fda6-4a1a-bc8d-89f6cb8ae919",
   "metadata": {},
   "outputs": [
    {
     "name": "stdout",
     "output_type": "stream",
     "text": [
      "WARNING:tensorflow:From C:\\Users\\Erle Babji Manohar\\anaconda3\\Lib\\site-packages\\tf_keras\\src\\losses.py:2976: The name tf.losses.sparse_softmax_cross_entropy is deprecated. Please use tf.compat.v1.losses.sparse_softmax_cross_entropy instead.\n",
      "\n"
     ]
    },
    {
     "data": {
      "application/vnd.jupyter.widget-view+json": {
       "model_id": "8b2e077d57c34f5ca2fa922a1fa3ab5a",
       "version_major": 2,
       "version_minor": 0
      },
      "text/plain": [
       "model.safetensors:   0%|          | 0.00/242M [00:00<?, ?B/s]"
      ]
     },
     "metadata": {},
     "output_type": "display_data"
    },
    {
     "name": "stdout",
     "output_type": "stream",
     "text": [
      "WARNING:tensorflow:From C:\\Users\\Erle Babji Manohar\\anaconda3\\Lib\\site-packages\\tf_keras\\src\\backend.py:873: The name tf.get_default_graph is deprecated. Please use tf.compat.v1.get_default_graph instead.\n",
      "\n"
     ]
    },
    {
     "name": "stderr",
     "output_type": "stream",
     "text": [
      "C:\\Users\\Erle Babji Manohar\\anaconda3\\Lib\\site-packages\\huggingface_hub\\file_download.py:159: UserWarning: `huggingface_hub` cache-system uses symlinks by default to efficiently store duplicated files but your machine does not support them in C:\\Users\\Erle Babji Manohar\\.cache\\huggingface\\hub\\models--t5-small. Caching files will still work but in a degraded version that might require more space on your disk. This warning can be disabled by setting the `HF_HUB_DISABLE_SYMLINKS_WARNING` environment variable. For more details, see https://huggingface.co/docs/huggingface_hub/how-to-cache#limitations.\n",
      "To support symlinks on Windows, you either need to activate Developer Mode or to run Python as an administrator. In order to see activate developer mode, see this article: https://docs.microsoft.com/en-us/windows/apps/get-started/enable-your-device-for-development\n",
      "  warnings.warn(message)\n",
      "All PyTorch model weights were used when initializing TFT5ForConditionalGeneration.\n",
      "\n",
      "All the weights of TFT5ForConditionalGeneration were initialized from the PyTorch model.\n",
      "If your task is similar to the task the model of the checkpoint was trained on, you can already use TFT5ForConditionalGeneration for predictions without further training.\n"
     ]
    },
    {
     "data": {
      "application/vnd.jupyter.widget-view+json": {
       "model_id": "f34171c52c8d40558348e90815bdddac",
       "version_major": 2,
       "version_minor": 0
      },
      "text/plain": [
       "tokenizer_config.json:   0%|          | 0.00/2.32k [00:00<?, ?B/s]"
      ]
     },
     "metadata": {},
     "output_type": "display_data"
    },
    {
     "data": {
      "application/vnd.jupyter.widget-view+json": {
       "model_id": "b6e2494f49ab4baba4ffba648ad44588",
       "version_major": 2,
       "version_minor": 0
      },
      "text/plain": [
       "spiece.model:   0%|          | 0.00/792k [00:00<?, ?B/s]"
      ]
     },
     "metadata": {},
     "output_type": "display_data"
    },
    {
     "data": {
      "application/vnd.jupyter.widget-view+json": {
       "model_id": "a99f5467210f46a3814cd1b645c4d90a",
       "version_major": 2,
       "version_minor": 0
      },
      "text/plain": [
       "tokenizer.json:   0%|          | 0.00/1.39M [00:00<?, ?B/s]"
      ]
     },
     "metadata": {},
     "output_type": "display_data"
    }
   ],
   "source": [
    "# Import the Library and Load a Pre-trained Model\n",
    "\n",
    "from transformers import pipeline\n",
    "\n",
    "# Load the pre-trained T5 model for summarization\n",
    "summarizer = pipeline('summarization', model='t5-small')"
   ]
  },
  {
   "cell_type": "code",
   "execution_count": 6,
   "id": "e234319d-e721-440c-8cb6-d8552d9d2ce5",
   "metadata": {},
   "outputs": [
    {
     "data": {
      "text/plain": [
       "<transformers.pipelines.text2text_generation.SummarizationPipeline at 0x25a497e2810>"
      ]
     },
     "execution_count": 6,
     "metadata": {},
     "output_type": "execute_result"
    }
   ],
   "source": [
    "summarizer"
   ]
  },
  {
   "cell_type": "code",
   "execution_count": 7,
   "id": "7139fef2-b262-4d2c-84f5-788cbe013193",
   "metadata": {},
   "outputs": [],
   "source": [
    "# Define the Summarization Function\n",
    "def abstractive_summary(text, max_length=50, min_length=25):\n",
    "    summary = summarizer(\n",
    "        text,\n",
    "        max_length=max_length,\n",
    "        min_length=min_length,\n",
    "        do_sample=False\n",
    "    )\n",
    "    return summary[0]['summary_text']\n"
   ]
  },
  {
   "cell_type": "code",
   "execution_count": 8,
   "id": "da85e8fc-13fe-494e-847a-cb81c580785f",
   "metadata": {},
   "outputs": [
    {
     "name": "stdout",
     "output_type": "stream",
     "text": [
      "natural language processing (NLP) involves enabling machines to understand, interpret, and generate human language in a way that is both meaningful and useful . applications of NLP include machine translation, sentiment analysis, and speech recognition .\n"
     ]
    }
   ],
   "source": [
    "# Use the Function to Summarize Text\n",
    "text = \"\"\"\n",
    "Natural Language Processing (NLP) is a field of artificial intelligence that focuses on the interaction between computers and human language. \n",
    "It involves enabling machines to understand, interpret, and generate human language in a way that is both meaningful and useful. \n",
    "NLP combines computational linguistics, computer science, and cognitive psychology to process and analyze large amounts of natural language data. \n",
    "Applications of NLP include machine translation, sentiment analysis, and speech recognition.\n",
    "\"\"\"\n",
    "\n",
    "summary = abstractive_summary(text)\n",
    "print(summary)"
   ]
  },
  {
   "cell_type": "markdown",
   "id": "bb8e1f2d-8b0b-46db-bc69-c3162f73265a",
   "metadata": {},
   "source": [
    "Considerations\n",
    "\n",
    "Extractive Summarization: This method is straightforward and computationally less intensive but may result in summaries that lack coherence.\n",
    "\n",
    "Abstractive Summarization: This approach generates more fluent and human-like summaries but requires more computational resources and may occasionally produce inaccuracies."
   ]
  },
  {
   "cell_type": "markdown",
   "id": "30d44d54-a745-4fd2-9790-d35a01617a37",
   "metadata": {
    "jp-MarkdownHeadingCollapsed": true
   },
   "source": [
    "## 9. **Data Visualization**:\n",
    "   - Visualizing text data distributions\n",
    "   - Creating word clouds, frequency histograms"
   ]
  },
  {
   "cell_type": "markdown",
   "id": "a446794f-6c66-4b54-a063-c3c6d8fe65d7",
   "metadata": {},
   "source": [
    "Data visualization is a crucial aspect of text analysis, enabling the representation of text data distributions and the creation of insightful visualizations like word clouds and frequency histograms."
   ]
  },
  {
   "cell_type": "markdown",
   "id": "86f3e22c-b6cb-4cef-bba0-52d61965e194",
   "metadata": {
    "jp-MarkdownHeadingCollapsed": true
   },
   "source": [
    "### 9.1. Visualizing Text Data Distributions\n",
    "\n",
    "To visualize the distribution of words in a text dataset, you can create a frequency histogram that displays the most common words and their frequencies."
   ]
  },
  {
   "cell_type": "code",
   "execution_count": 9,
   "id": "29be36b8-de80-487d-8d20-916c1bc24127",
   "metadata": {},
   "outputs": [],
   "source": [
    "import nltk\n",
    "from nltk.corpus import stopwords\n",
    "from nltk.probability import FreqDist\n",
    "from nltk.tokenize import word_tokenize\n",
    "import matplotlib.pyplot as plt\n"
   ]
  },
  {
   "cell_type": "code",
   "execution_count": 10,
   "id": "ed869caa-e2b6-470c-961d-49aa981a4b6e",
   "metadata": {},
   "outputs": [
    {
     "name": "stderr",
     "output_type": "stream",
     "text": [
      "[nltk_data] Downloading package punkt to C:\\Users\\Erle Babji\n",
      "[nltk_data]     Manohar\\AppData\\Roaming\\nltk_data...\n",
      "[nltk_data]   Package punkt is already up-to-date!\n",
      "[nltk_data] Downloading package stopwords to C:\\Users\\Erle Babji\n",
      "[nltk_data]     Manohar\\AppData\\Roaming\\nltk_data...\n",
      "[nltk_data]   Package stopwords is already up-to-date!\n"
     ]
    },
    {
     "data": {
      "text/plain": [
       "True"
      ]
     },
     "execution_count": 10,
     "metadata": {},
     "output_type": "execute_result"
    }
   ],
   "source": [
    "nltk.download('punkt')\n",
    "nltk.download('stopwords')\n",
    "\n"
   ]
  },
  {
   "cell_type": "code",
   "execution_count": 15,
   "id": "2d2ad0e7-6753-48c3-9c22-2ae0219a173f",
   "metadata": {},
   "outputs": [],
   "source": [
    "# Define the Function to Create a Frequency Histogram:\n",
    "def plot_word_frequency(text):\n",
    "    \"\"\"\n",
    "    This function tokenizes the text, removes stopwords, calculates word frequencies, and plots the 30 most common words in a histogram.\n",
    "    \"\"\"\n",
    "    # Tokenize the text into words\n",
    "    words = word_tokenize(text.lower())\n",
    "    \n",
    "    # Remove stopwords\n",
    "    stop_words = set(stopwords.words('english'))\n",
    "    filtered_words = [word for word in words if word.isalnum() and word not in stop_words]\n",
    "    \n",
    "    # Calculate word frequencies\n",
    "    freq_dist = FreqDist(filtered_words)\n",
    "    \n",
    "    # Plot the frequency distribution\n",
    "    plt.figure(figsize=(6, 4))\n",
    "    freq_dist.plot(30, cumulative=False)\n",
    "    plt.show()\n"
   ]
  },
  {
   "cell_type": "code",
   "execution_count": 14,
   "id": "d9272122-93b4-45a6-a6fe-16ddb42bf016",
   "metadata": {},
   "outputs": [
    {
     "data": {
      "image/png": "[encoded data removed]",
      "text/plain": [
       "<Figure size 600x400 with 1 Axes>"
      ]
     },
     "metadata": {},
     "output_type": "display_data"
    }
   ],
   "source": [
    "# Use the Function with Sample Text:\n",
    "sample_text = \"\"\"\n",
    "Natural Language Processing (NLP) is a field of artificial intelligence that focuses on the interaction between computers and human language. \n",
    "It involves enabling machines to understand, interpret, and generate human language in a way that is both meaningful and useful. \n",
    "NLP combines computational linguistics, computer science, and cognitive psychology to process and analyze large amounts of natural language data. \n",
    "Applications of NLP include machine translation, sentiment analysis, and speech recognition.\n",
    "\"\"\"\n",
    "\n",
    "plot_word_frequency(sample_text)\n"
   ]
  },
  {
   "cell_type": "markdown",
   "id": "b28b3bfa-8922-407f-b3a0-7d87ae9dda3f",
   "metadata": {
    "jp-MarkdownHeadingCollapsed": true
   },
   "source": [
    "### 9.2. Creating Word Clouds\n",
    "\n",
    "Word clouds are a popular way to visualize the frequency of words in a text, with the size of each word indicating its frequency."
   ]
  },
  {
   "cell_type": "code",
   "execution_count": 17,
   "id": "79bf027f-fff7-412b-901d-fb84eeb44605",
   "metadata": {},
   "outputs": [],
   "source": [
    "# !pip install wordcloud matplotlib"
   ]
  },
  {
   "cell_type": "code",
   "execution_count": 18,
   "id": "027d2524-6e97-443a-a3ab-dca4facac70f",
   "metadata": {},
   "outputs": [],
   "source": [
    "from wordcloud import WordCloud\n",
    "import matplotlib.pyplot as plt\n"
   ]
  },
  {
   "cell_type": "code",
   "execution_count": 21,
   "id": "255109a5-5500-435a-b5b0-a4ae24efe668",
   "metadata": {},
   "outputs": [],
   "source": [
    "# Define the Function to Create a Word Cloud:\n",
    "\n",
    "def generate_word_cloud(text):\n",
    "    # Generate the word cloud\n",
    "    wordcloud = WordCloud(width=600, height=300, background_color='white').generate(text)\n",
    "    \n",
    "    # Display the word cloud\n",
    "    plt.figure(figsize=(10, 6))\n",
    "    plt.imshow(wordcloud, interpolation='bilinear')\n",
    "    plt.axis('off')\n",
    "    plt.show()"
   ]
  },
  {
   "cell_type": "code",
   "execution_count": 22,
   "id": "73e1d18c-1b23-4c09-92c3-0537053250b1",
   "metadata": {},
   "outputs": [
    {
     "data": {
      "image/png": "[encoded data removed]",
      "text/plain": [
       "<Figure size 1000x600 with 1 Axes>"
      ]
     },
     "metadata": {},
     "output_type": "display_data"
    }
   ],
   "source": [
    "# Use the Function with Sample Text:\n",
    "\n",
    "sample_text = \"\"\"\n",
    "Natural Language Processing (NLP) is a field of artificial intelligence that focuses on the interaction between computers and human language. \n",
    "It involves enabling machines to understand, interpret, and generate human language in a way that is both meaningful and useful. \n",
    "NLP combines computational linguistics, computer science, and cognitive psychology to process and analyze large amounts of natural language data. \n",
    "Applications of NLP include machine translation, sentiment analysis, and speech recognition.\n",
    "\"\"\"\n",
    "\n",
    "generate_word_cloud(sample_text)"
   ]
  },
  {
   "cell_type": "markdown",
   "id": "28e2ea16-bb92-4cec-a3a8-4fb6fca902b8",
   "metadata": {
    "jp-MarkdownHeadingCollapsed": true
   },
   "source": [
    "## 10. **Handling Imbalanced Data**:\n",
    "    - Techniques like oversampling, undersampling\n",
    "    - Using evaluation metrics suitable for imbalanced datasets"
   ]
  },
  {
   "cell_type": "markdown",
   "id": "0bf00243-b6d4-4d62-96ec-0f3cc5a25c66",
   "metadata": {},
   "source": [
    "Handling imbalanced data is crucial in text classification tasks, as traditional models may be biased toward the majority class, leading to poor performance on the minority class. To address this, you can employ techniques like oversampling, undersampling, and utilize evaluation metrics tailored for imbalanced datasets.\n",
    "\n",
    "Techniques for Handling Imbalanced Data\n",
    "\n",
    "- Oversampling the Minority Class: This involves increasing the number of instances in the minority class by duplicating existing samples or generating synthetic data. The Synthetic Minority Over-sampling Technique (SMOTE) is a popular method for generating synthetic samples.\n",
    "\n",
    "- Undersampling the Majority Class: This technique reduces the number of instances in the majority class to balance the dataset. While it can help balance the dataset, it may lead to the loss of valuable information.\n",
    "\n",
    "- Adjusting Class Weights: Many machine learning algorithms allow you to assign different weights to classes, penalizing misclassifications of the minority class more heavily."
   ]
  },
  {
   "cell_type": "markdown",
   "id": "7783962f-14ac-4f42-8915-c03e95bde41b",
   "metadata": {
    "jp-MarkdownHeadingCollapsed": true
   },
   "source": [
    "### 10.1  Implementing Oversampling and Undersampling"
   ]
  },
  {
   "cell_type": "code",
   "execution_count": 24,
   "id": "eb749094-42cb-40bc-8825-7ea4c64caa59",
   "metadata": {},
   "outputs": [],
   "source": [
    "# !pip install imbalanced-learn"
   ]
  },
  {
   "cell_type": "code",
   "execution_count": 25,
   "id": "3de922f5-d94d-4474-824c-fdeb4db09128",
   "metadata": {},
   "outputs": [],
   "source": [
    "from imblearn.over_sampling import SMOTE\n",
    "from imblearn.under_sampling import RandomUnderSampler\n",
    "from collections import Counter"
   ]
  },
  {
   "cell_type": "raw",
   "id": "97546d3f-13db-446d-8e42-7b651cd78819",
   "metadata": {},
   "source": [
    "# Apply SMOTE for Oversampling:\n",
    "\n",
    "# X_train and y_train are your feature and target variables\n",
    "smote = SMOTE(sampling_strategy='auto', random_state=42)\n",
    "X_res, y_res = smote.fit_resample(X_train, y_train)\n",
    "print(f\"Resampled dataset shape: {Counter(y_res)}\")"
   ]
  },
  {
   "cell_type": "raw",
   "id": "2ea1dd74-c388-4bc2-8af0-9cdc96a1c476",
   "metadata": {},
   "source": [
    "# Apply Random Undersampling:\n",
    "\n",
    "# X_train and y_train are your feature and target variables\n",
    "undersample = RandomUnderSampler(sampling_strategy='auto', random_state=42)\n",
    "X_res, y_res = undersample.fit_resample(X_train, y_train)\n",
    "print(f\"Resampled dataset shape: {Counter(y_res)}\")"
   ]
  },
  {
   "cell_type": "markdown",
   "id": "8dafa85c-423f-4ab3-9ca2-a6e503fc84ae",
   "metadata": {
    "jp-MarkdownHeadingCollapsed": true
   },
   "source": [
    "### 10.2. Evaluation Metrics for Imbalanced Dataset\n",
    "\n",
    "In imbalanced datasets, accuracy is not a reliable metric. Instead, consider the following metrics:\n",
    "- Precision: Measures the accuracy of positive predictions.\n",
    "- Recall (Sensitivity): Measures the ability to identify all positive instances.\n",
    "- F1-Score: The harmonic mean of precision and recall, providing a balance between the two.\n",
    "- Area Under the Precision-Recall Curve (AUC-PR): Provides insight into the trade-off between precision and recall across different thresholds.\n",
    "- Matthews Correlation Coefficient (MCC): A balanced measure that can be used even if the classes are of very different sizes."
   ]
  },
  {
   "cell_type": "code",
   "execution_count": 28,
   "id": "d3f45169-43bb-4c2f-9dcf-80bcb4c8b2a5",
   "metadata": {},
   "outputs": [],
   "source": [
    "# Implementing Evaluation Metrics\n",
    "from sklearn.metrics import precision_score, recall_score, f1_score, precision_recall_curve, auc, matthews_corrcoef\n"
   ]
  },
  {
   "cell_type": "raw",
   "id": "23379036-923f-49f4-aba5-8c6c78857977",
   "metadata": {},
   "source": [
    "# y_true and y_pred are your true and predicted labels\n",
    "\n",
    "precision = precision_score(y_true, y_pred)\n",
    "recall = recall_score(y_true, y_pred)\n",
    "f1 = f1_score(y_true, y_pred)\n",
    "\n",
    "print(f\"Precision: {precision}\")\n",
    "print(f\"Recall: {recall}\")\n",
    "print(f\"F1-Score: {f1}\")"
   ]
  },
  {
   "cell_type": "raw",
   "id": "4ddbefd1-8021-4da2-bb36-fe6fb5fad27d",
   "metadata": {},
   "source": [
    "# Calculate AUC-PR:\n",
    "\n",
    "precision, recall, _ = precision_recall_curve(y_true, y_scores)\n",
    "\n",
    "auc_pr = auc(recall, precision)\n",
    "\n",
    "print(f\"AUC-PR: {auc_pr}\")"
   ]
  },
  {
   "cell_type": "raw",
   "id": "cb15e084-e0b7-4b11-ad56-d7906c39de21",
   "metadata": {},
   "source": [
    "# Calculate Matthews Correlation Coefficient (MCC):\n",
    "\n",
    "mcc = matthews_corrcoef(y_true, y_pred)\n",
    "print(f\"MCC: {mcc}\")"
   ]
  },
  {
   "cell_type": "markdown",
   "id": "b14597fb-6565-45ee-92fb-72108e688230",
   "metadata": {},
   "source": [
    "By applying these techniques and metrics, you can effectively handle imbalanced data in text classification tasks, leading to more reliable and meaningful model evaluations."
   ]
  },
  {
   "cell_type": "code",
   "execution_count": null,
   "id": "837e2339-4e54-476e-ab7a-abd1277d53cc",
   "metadata": {},
   "outputs": [],
   "source": []
  },
  {
   "cell_type": "code",
   "execution_count": null,
   "id": "2321cb14-32ed-4306-b557-ef611342ead1",
   "metadata": {},
   "outputs": [],
   "source": []
  }
 ],
 "metadata": {
  "kernelspec": {
   "display_name": "Python 3 (ipykernel)",
   "language": "python",
   "name": "python3"
  },
  "language_info": {
   "codemirror_mode": {
    "name": "ipython",
    "version": 3
   },
   "file_extension": ".py",
   "mimetype": "text/x-python",
   "name": "python",
   "nbconvert_exporter": "python",
   "pygments_lexer": "ipython3",
   "version": "3.11.5"
  }
 },
 "nbformat": 4,
 "nbformat_minor": 5
}
